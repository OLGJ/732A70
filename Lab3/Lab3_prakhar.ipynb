{
 "cells": [
  {
   "cell_type": "markdown",
   "metadata": {},
   "source": [
    "# Lab 3: Functional programming, and declarative patterns\n"
   ]
  },
  {
   "cell_type": "markdown",
   "metadata": {},
   "source": [
    "__Student:__ praxx543\n",
    "\n",
    "__Student:__ olojo524"
   ]
  },
  {
   "cell_type": "markdown",
   "metadata": {},
   "source": [
    "Disclaimer: Functional programming in Python does not always lead to the fastest possible code, and is often not considered the *pythonic* approach. However, functional programming is the basis for many concurrent systems (the MapReduce programming model which many big data systems, e.g. Hadoop, relies on gets its name from the *map* and *reduce* functions mentioned below). Python is a multi-paradigm language, and functional programming is one of the main paradigms one can use. To understand how and when to do this, it is necessary to do things in a non-*pythonic* way in order to cover the basics."
   ]
  },
  {
   "cell_type": "markdown",
   "metadata": {},
   "source": [
    "## General instructions\n",
    "\n",
    "In this lab there are some general rules you should keep in mind to make sure you are on the correct path in your solutions.\n",
    "\n",
    "#### Rules\n",
    "1. You are not allowed to use `while` or `for` statements unless this is explicitly allowed in the task.\n",
    "2. You are not allowed to use global variables (other than for functions defined in the global environment).\n",
    "3. Code stubs should be viewed as fixed, you are only allowed to add code, the only code you are allowed to change is `pass` statements, which you should remove.\n",
    "4. You should refrain from using the `list` datatype unless otherwise specified and instead use `tuple`. One of the strengths of functional programming is its focus on immutable data types (this is why functional programming and concurrency goes so well together). Incidentally, one might find speedups when using the immutable tuples instead of lists.\n",
    "\n",
    "#### Advice\n",
    "1. Avoid local variables unless you are certain they are necessary, in most cases you won't need to use local variables. (altermatively, use local variables to your hearts content, but when your solution works, try to eliminate them, you should be able to eliminate most of them, over time, you might find that you don't need them.)"
   ]
  },
  {
   "cell_type": "markdown",
   "metadata": {},
   "source": [
    "# 2 Recursion\n",
    "\n",
    "As an introduction to linear recursion, read the introductory note on the course webpage. This might help explain terms that you may not know (even if the concept is previously known)."
   ]
  },
  {
   "cell_type": "markdown",
   "metadata": {},
   "source": [
    "## 2.1 Linear recursion"
   ]
  },
  {
   "cell_type": "markdown",
   "metadata": {},
   "source": [
    "a) Write a recursive function `sum_even(n)` that takes a natural number $n\\geq 0$ and returns the sum of all even numbers $0,...,n$. It should be linear-recursive with delayed computations."
   ]
  },
  {
   "cell_type": "code",
   "execution_count": 1,
   "metadata": {},
   "outputs": [
    {
     "data": {
      "text/plain": [
       "6"
      ]
     },
     "execution_count": 1,
     "metadata": {},
     "output_type": "execute_result"
    }
   ],
   "source": [
    "def sum_even(n) :\n",
    "    if n == 0 :\n",
    "        return 0\n",
    "    if n % 2 != 0 :\n",
    "        return sum_even(n-1)\n",
    "    return n + sum_even(n-2)\n",
    "\n",
    "sum_even(4)"
   ]
  },
  {
   "cell_type": "markdown",
   "metadata": {},
   "source": [
    "b) Write `sum_even_it(n)` according to the same specification. In this case, the solution should be tail recursive."
   ]
  },
  {
   "cell_type": "code",
   "execution_count": 4,
   "metadata": {},
   "outputs": [
    {
     "data": {
      "text/plain": [
       "6"
      ]
     },
     "execution_count": 4,
     "metadata": {},
     "output_type": "execute_result"
    }
   ],
   "source": [
    "# Your code here.\n",
    "def sum_even_it(n, s = 0) :\n",
    "    s = 0\n",
    "    if n == 0 :\n",
    "        return s\n",
    "    if n % 2 != 0 :\n",
    "        return sum_even_it(n-1, s)\n",
    "    return sum_even_it(n-2, s+n)\n",
    "\n",
    "sum_even(4)"
   ]
  },
  {
   "cell_type": "markdown",
   "metadata": {},
   "source": [
    "c) We can of course express this in a declarative and Pythonic way, which is non-recursive. Write a function `sum_even_py` which returns the same result as above, but using a comprehension or filter/map/reduce construct."
   ]
  },
  {
   "cell_type": "code",
   "execution_count": 90,
   "metadata": {},
   "outputs": [
    {
     "data": {
      "text/plain": [
       "1260"
      ]
     },
     "execution_count": 90,
     "metadata": {},
     "output_type": "execute_result"
    }
   ],
   "source": [
    "def sum_even_py(n) :\n",
    "    return sum(i for i in range(n+1) if i % 2 == 0)\n",
    "\n",
    "sum_even_py(71)"
   ]
  },
  {
   "cell_type": "markdown",
   "metadata": {},
   "source": [
    "## 3 Higher order functions (HOF)\n",
    " \n",
    "A _higher-order function_ is a function which operates on other functions. What this means exactly is disputed, but we will call any function which returns a function or takes a function as an argument a higher-order function. (Conversely, a function neither taking another function as input nor returning a function we will refer to as a _first-order function_)\n",
    "\n",
    "In R you have encountered these when, for instance, using the `apply` family of functions, which are all versions of what is called a `map` function in functional programming (see below).\n",
    "\n",
    "When using higher-order functions, it is often useful to create simple anonymous functions at the place in the code where they are used, rather than defining a new named function in one place only to call it in a single other place. In R, all functions are created in this way with the `function` keyword, but they are usually assigned to global names with standard assignment (`<-`). Python provides similar functionality using the `lambda` keyword (name inspired by Alonzo Church's [$\\lambda$-calculus](https://www.youtube.com/watch?v=eis11j_iGMs) which has inspired much of functional programming) with which we can create anonymous functions. Of course, we can also pass named functions to higher-order functions, which is usually the case when the function is predefined, general enough to be used in more than one place, or complex enough to warrant separate definition and documentation for the sake of clarity."
   ]
  },
  {
   "cell_type": "markdown",
   "metadata": {},
   "source": [
    "## 3.1 The three standard functions `map`, `reduce` and `filter`\n",
    "\n",
    "There are three standard cases which are widely applicable and many other higher-order functions are special cases or combinations of these. They are: `map`, apply a function on each element in a sequence, `filter`, keep (or conversely, remove) elements from a sequence according to some condition, and `reduce`, combine the elements in a sequence. The `map` function takes a sequence and a function (usually of 1 parameter) which is to be applied to each element of the sequence and might return anything, this function is assumed not to have side effects. The `filter` function takes a function (usually of 1 parameter) which returns a boolean value used to indicate which elements are to be kept. The `reduce` function takes a function (usually of 2 parameters) which is used to combine the elements in the sequence.\n",
    "\n",
    "In Python, `map` and `filter` are standard built-in functions. Since Python 3, the `reduce` function needs to be imported from the `functools` module.\n",
    "\n",
    "Many more advanced functions, of any order, can be created by combining these three higher-order functions.\n",
    "\n",
    "A note from last year: usually, the `reduce` function is more difficult to grasp than `map` and `filter` but I found this blog-post by André Burgaud to be a nice introduction to `reduce`. Note that Burgaud talks about the more general _fold_ concept rather than `reduce`, which is a special case of fold often called _left fold_ (this is covered in more detail in the post). https://www.burgaud.com/foldl-foldr-python/"
   ]
  },
  {
   "cell_type": "markdown",
   "metadata": {},
   "source": [
    "a) Implement a function `mysum` which computes the sum of a list or tuple of numbers using the reduce function and a lambda function."
   ]
  },
  {
   "cell_type": "code",
   "execution_count": 5,
   "metadata": {},
   "outputs": [
    {
     "data": {
      "text/plain": [
       "12"
      ]
     },
     "execution_count": 5,
     "metadata": {},
     "output_type": "execute_result"
    }
   ],
   "source": [
    "from functools import reduce\n",
    "\n",
    "def mysum(seq):\n",
    "    return reduce(lambda x, y : x + y, seq)   # Replace the ???? with your code.\n",
    "\n",
    "mysum((4, 7, 1))"
   ]
  },
  {
   "cell_type": "markdown",
   "metadata": {},
   "source": [
    "b) Implement a function `mylength` which uses `map` and `reduce` (or only `reduce`, if you feel like it) to compute the length of a sequence. The use of the `len` function is not allowed.\n",
    "\n",
    "[Hint: You can use `map` to convert the input to something which can easily be `reduce`:d.]"
   ]
  },
  {
   "cell_type": "code",
   "execution_count": 6,
   "metadata": {},
   "outputs": [
    {
     "name": "stdout",
     "output_type": "stream",
     "text": [
      "5\n",
      "4\n"
     ]
    }
   ],
   "source": [
    "def mylength(seq):\n",
    "    return reduce(lambda x, y: x + y, map(lambda x: 1, seq))\n",
    "    \n",
    "print(mylength((4, 2, 5, 2, 5)))\n",
    "print(mylength(\"test\"))"
   ]
  },
  {
   "cell_type": "markdown",
   "metadata": {},
   "source": [
    "## 3.2 Building your own higher order functions (HOF)"
   ]
  },
  {
   "cell_type": "markdown",
   "metadata": {},
   "source": [
    "a) Re-implement the three basic functional helper functions `map`, `filter` and `reduce` **as purely functional recursive functions**. You may not express this as eg comprehensions; the task is to practice figuring out this type of logic.\n",
    "\n",
    "Note that the built-in versions of these functions work on multiple sequences of equal length if supplied, however, you can assume a single sequence as second parameter, i.e. you can also skip the third parameter to reduce."
   ]
  },
  {
   "cell_type": "code",
   "execution_count": 94,
   "metadata": {},
   "outputs": [
    {
     "data": {
      "text/plain": [
       "(0, 1, 4, 9, 16, 25, 36, 49, 64, 81)"
      ]
     },
     "execution_count": 94,
     "metadata": {},
     "output_type": "execute_result"
    }
   ],
   "source": [
    "def mymap(f, seq):\n",
    "    if not seq :\n",
    "        return seq\n",
    "    return tuple([f(seq[0])]).__add__(mymap(f, seq[1:]))\n",
    "\n",
    "mymap(lambda x:x**2, tuple(range(10)))  # Should return the tuple (0, 1, 4, 9, ..., 81)."
   ]
  },
  {
   "cell_type": "code",
   "execution_count": 7,
   "metadata": {},
   "outputs": [
    {
     "data": {
      "text/plain": [
       "(0, 2, 4, 6, 8)"
      ]
     },
     "execution_count": 7,
     "metadata": {},
     "output_type": "execute_result"
    }
   ],
   "source": [
    "def myfilter(f, seq):\n",
    "    if not seq :\n",
    "        return seq\n",
    "    return tuple([seq[0]] if f(seq[0]) else []).__add__(myfilter(f, seq[1:]))\n",
    "\n",
    "myfilter(lambda x : x%2 == 0, tuple(range(10)))  # Should return the tuple of even numbers (0, 2, 4, 6, 8)"
   ]
  },
  {
   "cell_type": "markdown",
   "metadata": {},
   "source": [
    "You might note the similarities with how you implemented `sum_even`."
   ]
  },
  {
   "cell_type": "code",
   "execution_count": 11,
   "metadata": {},
   "outputs": [
    {
     "name": "stdout",
     "output_type": "stream",
     "text": [
      "(1, 2, 3, 4)\n",
      "(1, 2, 3)\n",
      "(1, 2)\n",
      "(1,)\n"
     ]
    },
    {
     "data": {
      "text/plain": [
       "576"
      ]
     },
     "execution_count": 11,
     "metadata": {},
     "output_type": "execute_result"
    }
   ],
   "source": [
    "def myreduce(f, seq):\n",
    "    print(seq)\n",
    "    if len(seq) == 1 :\n",
    "        return seq[0]\n",
    "    return f(myreduce(f, seq[:-1]), seq[-1])\n",
    "\n",
    "myreduce(lambda x, y: x*y*y, tuple(range(1,5)))  # Should return the number 1*2*3*4 = 24"
   ]
  },
  {
   "cell_type": "markdown",
   "metadata": {},
   "source": [
    "## 3.3 Returning functions\n",
    "\n",
    "The previous section covered functions which take other functions as input, but what about the opposite, functions returning functions as output?"
   ]
  },
  {
   "cell_type": "markdown",
   "metadata": {},
   "source": [
    "a) Function composition is a common in both maths and programming. Write a function `compose` which takes two functions, $f$ and $g$, and produces the _composite_ function $f \\circ g$, where $(f \\circ g)(x) \\Leftrightarrow f(g(x))$. Example use is given below."
   ]
  },
  {
   "cell_type": "code",
   "execution_count": 13,
   "metadata": {
    "scrolled": true
   },
   "outputs": [
    {
     "name": "stdout",
     "output_type": "stream",
     "text": [
      "[-1.507556722888818, -1.2060453783110545, -0.9045340337332909, -0.6030226891555273, -0.30151134457776363, 0.0, 0.30151134457776363, 0.6030226891555273, 0.9045340337332909, 1.2060453783110545, 1.507556722888818]\n"
     ]
    }
   ],
   "source": [
    "from statistics import stdev, mean\n",
    "\n",
    "def compose(f, g):\n",
    "    def h(x) :\n",
    "        return f(g(x))\n",
    "    return h\n",
    "\n",
    "def myscale(vals):\n",
    "    return [x/stdev(vals) for x in vals]\n",
    "\n",
    "def myshift(vals):\n",
    "    return [x-mean(vals) for x in vals]\n",
    "\n",
    "standardize = compose(myscale, myshift)\n",
    "\n",
    "print(standardize(range(-3, 8)))"
   ]
  },
  {
   "cell_type": "markdown",
   "metadata": {},
   "source": [
    "**Voluntary task (not required)**\n",
    "Create a function `composition(*funs)` which takes a non-empty sequence of functions of one argument and returns their sequential composition. That is $composition(f_0,f_1, \\ldots, f_n) = f_0 \\circ f_1 \\circ\\ldots \\circ f_n$. (The question of if $f\\circ g \\circ h$ should be read $f\\circ (g\\circ h)$ or $(f \\circ g) \\circ h$ is perfectly valid, but they turn out to be the same. That is, $\\circ$ is associative.)"
   ]
  },
  {
   "cell_type": "code",
   "execution_count": 14,
   "metadata": {},
   "outputs": [
    {
     "name": "stdout",
     "output_type": "stream",
     "text": [
      "[-1.507556722888818, -1.2060453783110545, -0.9045340337332909, -0.6030226891555273, -0.30151134457776363, 0.0, 0.30151134457776363, 0.6030226891555273, 0.9045340337332909, 1.2060453783110545, 1.507556722888818]\n"
     ]
    }
   ],
   "source": [
    "def composition(*funs):\n",
    "    return reduce(compose, funs)\n",
    "\n",
    "stan = composition(myscale, standardize)\n",
    "print(stan(range(-3, 8)))"
   ]
  },
  {
   "cell_type": "markdown",
   "metadata": {},
   "source": [
    "Hint: Don't remember what can be found in `*funs`? Print it! Don't know how the values should be combined? Write out some simple example on paper."
   ]
  },
  {
   "cell_type": "markdown",
   "metadata": {},
   "source": [
    "Note: This task demonstrates the generality of our constructs. Previously we worked with sequences of numbers and the like. Now we lift this to the level of working with functions as values, and instead of using combinators which work on numbers, we use function combinators in conjunction with our known patterns."
   ]
  },
  {
   "cell_type": "markdown",
   "metadata": {},
   "source": [
    "### Voluntary task: pipelining\n",
    "\n",
    "When doing data analysis, one very important part is pre-processing. Often, data goes through a number of steps of preprocessing, sometimes called a pipeline. The function composition example above can be seen as a special case of such a pipeline for only two functions. By clever use of higher order functions, we can build a pipeline function which takes a list or tuple of data transforming functions and creates a function which applies these sequentially. Construct such a function called `make_pipeline`. In order to focus on the primary purpose of the `make_pipeline` function, we will perform a very simple set of transformations, increment each value by 1, take the absolute value, and then take the square root. Usage example and code for the `inc` function is supplied below.\n",
    "\n",
    "You may want to use functions you have defined above."
   ]
  },
  {
   "cell_type": "code",
   "execution_count": 186,
   "metadata": {
    "scrolled": false
   },
   "outputs": [
    {
     "name": "stdout",
     "output_type": "stream",
     "text": [
      "<function make_pipeline.<locals>.<lambda> at 0x0000026C830D1CA0>\n"
     ]
    },
    {
     "ename": "TypeError",
     "evalue": "'tuple' object is not callable",
     "output_type": "error",
     "traceback": [
      "\u001b[1;31m---------------------------------------------------------------------------\u001b[0m",
      "\u001b[1;31mTypeError\u001b[0m                                 Traceback (most recent call last)",
      "\u001b[1;32m~\\AppData\\Local\\Temp/ipykernel_15032/1059665302.py\u001b[0m in \u001b[0;36m<module>\u001b[1;34m\u001b[0m\n\u001b[0;32m     15\u001b[0m \u001b[0mprint\u001b[0m\u001b[1;33m(\u001b[0m\u001b[0mpipeline\u001b[0m\u001b[1;33m)\u001b[0m\u001b[1;33m\u001b[0m\u001b[1;33m\u001b[0m\u001b[0m\n\u001b[0;32m     16\u001b[0m \u001b[1;33m\u001b[0m\u001b[0m\n\u001b[1;32m---> 17\u001b[1;33m \u001b[0mtuple\u001b[0m\u001b[1;33m(\u001b[0m\u001b[0mpipeline\u001b[0m\u001b[1;33m(\u001b[0m\u001b[0mrange\u001b[0m\u001b[1;33m(\u001b[0m\u001b[1;33m-\u001b[0m\u001b[1;36m5\u001b[0m\u001b[1;33m,\u001b[0m\u001b[1;36m5\u001b[0m\u001b[1;33m)\u001b[0m\u001b[1;33m)\u001b[0m\u001b[1;33m)\u001b[0m\u001b[1;33m\u001b[0m\u001b[1;33m\u001b[0m\u001b[0m\n\u001b[0m",
      "\u001b[1;32m~\\AppData\\Local\\Temp/ipykernel_15032/1059665302.py\u001b[0m in \u001b[0;36m<lambda>\u001b[1;34m(vals)\u001b[0m\n\u001b[0;32m      4\u001b[0m \u001b[1;33m\u001b[0m\u001b[0m\n\u001b[0;32m      5\u001b[0m \u001b[1;32mdef\u001b[0m \u001b[0mmake_pipeline\u001b[0m\u001b[1;33m(\u001b[0m\u001b[1;33m*\u001b[0m\u001b[0mfuns\u001b[0m\u001b[1;33m)\u001b[0m\u001b[1;33m:\u001b[0m\u001b[1;33m\u001b[0m\u001b[1;33m\u001b[0m\u001b[0m\n\u001b[1;32m----> 6\u001b[1;33m     \u001b[1;32mreturn\u001b[0m \u001b[1;32mlambda\u001b[0m \u001b[0mvals\u001b[0m\u001b[1;33m:\u001b[0m \u001b[0mcomposition\u001b[0m\u001b[1;33m(\u001b[0m\u001b[0mfuns\u001b[0m\u001b[1;33m)\u001b[0m\u001b[1;33m(\u001b[0m\u001b[0mvals\u001b[0m\u001b[1;33m)\u001b[0m\u001b[1;33m\u001b[0m\u001b[1;33m\u001b[0m\u001b[0m\n\u001b[0m\u001b[0;32m      7\u001b[0m \u001b[1;33m\u001b[0m\u001b[0m\n\u001b[0;32m      8\u001b[0m \u001b[1;31m# We can even drop the lambda vals : bit, using partial\u001b[0m\u001b[1;33m\u001b[0m\u001b[1;33m\u001b[0m\u001b[0m\n",
      "\u001b[1;31mTypeError\u001b[0m: 'tuple' object is not callable"
     ]
    }
   ],
   "source": [
    "from functools import reduce, partial\n",
    "from math import sqrt \n",
    "\n",
    "\n",
    "def make_pipeline(*funs):\n",
    "    return lambda vals: ???\n",
    "\n",
    "# We can even drop the lambda vals : bit, using partial\n",
    "# evaluation (see the help for functools.partial!)\n",
    "\n",
    "def inc(x):\n",
    "    return x+1\n",
    "\n",
    "pipeline = make_pipeline(inc, abs, sqrt)\n",
    "print(pipeline)\n",
    "\n",
    "tuple(pipeline(range(-5,5)))"
   ]
  },
  {
   "cell_type": "markdown",
   "metadata": {},
   "source": [
    "## 4. Simple declarative Pythonic patterns (involving higher order functions)"
   ]
  },
  {
   "cell_type": "markdown",
   "metadata": {},
   "source": [
    "a) As preparation, create a named tuple type \"coord\" which has fields `x` and `y`."
   ]
  },
  {
   "cell_type": "code",
   "execution_count": 15,
   "metadata": {},
   "outputs": [],
   "source": [
    "from collections import namedtuple\n",
    "coord = namedtuple(\"coord\", [\"x\", \"y\"]) # your code here\n",
    "\n",
    "five_three = coord(5,3)\n",
    "assert five_three.x == 5, \"first element is the x coordinate\"\n",
    "assert five_three.y == 3, \"the second element is the y coordinate\""
   ]
  },
  {
   "cell_type": "markdown",
   "metadata": {},
   "source": [
    "b) Generate a $10^7$ random coordinates, with $x$ and $y$ coordinates drawn uniformly from [-1000,1000]. Save the tuple of those with $x + y > 0$ as `rnd_coords`. How many are there (probably fewer than $10^7$)?"
   ]
  },
  {
   "cell_type": "code",
   "execution_count": 16,
   "metadata": {},
   "outputs": [
    {
     "name": "stdout",
     "output_type": "stream",
     "text": [
      "5000286\n"
     ]
    },
    {
     "data": {
      "text/plain": [
       "((152.85913728754554, 528.7929631518809),\n",
       " (707.4004745249272, 623.3381196331065),\n",
       " (25.723332806827102, 161.8467186360258),\n",
       " (346.1422260394079, -273.7005751610375),\n",
       " (693.5153259856966, 14.807000172444532),\n",
       " (918.6341801919366, -202.9657600239592),\n",
       " (838.2135865740506, 408.6878117271335),\n",
       " (337.491510068711, 545.470011221184),\n",
       " (-74.42072238693447, 654.1142239457645),\n",
       " (871.2292972815289, 531.4392050307076),\n",
       " (256.7157485268333, 62.34020986433893),\n",
       " (-446.3018238638057, 949.2887086895175),\n",
       " (-77.98947395979326, 763.361284106491),\n",
       " (-63.532118996941335, 118.63214882355601),\n",
       " (19.88804859273705, 273.08316693964275),\n",
       " (-25.970165479712023, 410.1137146787912),\n",
       " (-457.58883325070747, 985.9977868922679),\n",
       " (855.0680772495593, 976.0159512539631),\n",
       " (338.7316603971851, -5.7582684893698115),\n",
       " (455.4444892977492, 410.1576665905402),\n",
       " (196.04422108941435, 661.6728914450057),\n",
       " (305.2212295346342, 701.9783313991213),\n",
       " (-657.8346219134075, 832.1547955707367),\n",
       " (877.430178606457, -391.6850283475288),\n",
       " (67.34586428162993, 838.0914977171867),\n",
       " (-121.25700358230529, 440.006720827492),\n",
       " (98.61510872545887, 728.3924787327039),\n",
       " (704.5320021548632, 239.81090227658115),\n",
       " (230.72021586490973, 63.41690731697986),\n",
       " (185.9061723977602, 818.7230833930494),\n",
       " (-622.5222706081919, 920.4952239980589),\n",
       " (111.44307178277018, 381.53456605549627),\n",
       " (-464.9923063552113, 689.3731749419157),\n",
       " (915.3294136402353, 655.630107140867),\n",
       " (523.4217605029792, 238.6611323217628),\n",
       " (33.28952759525214, 813.2352235813189),\n",
       " (-59.62459939955215, 281.5322128702044),\n",
       " (-356.36086191545303, 431.6775189114785),\n",
       " (932.1471165105017, -499.93003219660136),\n",
       " (778.1702293556446, 461.66788808924935),\n",
       " (418.0393153664684, 837.398463132612),\n",
       " (568.0725225452086, -430.68290410899283),\n",
       " (295.9979885053476, 880.5895009135243),\n",
       " (728.8321505088461, 434.6709730690043),\n",
       " (779.421770142927, -511.348581532012),\n",
       " (381.2699738394804, 814.497352199216),\n",
       " (548.8789116424662, -118.48030650313615),\n",
       " (665.0153693279751, 417.70419267079797),\n",
       " (673.527605589203, -35.228679257157864),\n",
       " (597.6910872844078, 392.4784261500929),\n",
       " (743.4621337986835, -298.34803682952327),\n",
       " (856.0673267692637, 83.61839181904497),\n",
       " (270.5527648050004, 805.6917248913614),\n",
       " (615.2137116470938, 855.8584847707887),\n",
       " (-496.3002714044009, 663.9672810378947),\n",
       " (557.6062308620519, 50.2494282860971),\n",
       " (-192.13442730061956, 504.68085460264456),\n",
       " (146.8988897377892, 675.5580846879068),\n",
       " (-257.3649309504365, 964.3040269798107),\n",
       " (514.3559569398551, -125.9986695050261),\n",
       " (538.0165519513255, 966.5427737528548),\n",
       " (-151.22089096515492, 670.6182203299679),\n",
       " (934.7116534045256, 82.74264200763446),\n",
       " (891.3190182667117, -493.09467553530027),\n",
       " (142.13609300521466, -141.92279947832765),\n",
       " (469.61448950143085, 133.65270374734996),\n",
       " (74.73702301784692, 350.0161163831367),\n",
       " (317.2712844429259, 937.3266354592624),\n",
       " (-398.49272056768757, 439.4777951815479),\n",
       " (776.550410115733, -753.6152696321448),\n",
       " (-502.5421801947767, 722.1176701217812),\n",
       " (655.9867498180217, 590.2778191529535),\n",
       " (739.263321788658, -117.91968816661426),\n",
       " (546.0739802179878, 6.849542985152311),\n",
       " (240.15136983107345, 274.87160499763263),\n",
       " (634.1601070962438, 396.38211390830156),\n",
       " (949.2120263864822, 346.812698747319),\n",
       " (876.9062076686355, -508.87446247315273),\n",
       " (908.1160025367806, -772.497680115124),\n",
       " (-395.8323003322304, 665.6632088849569),\n",
       " (-444.56123351472866, 486.4111928161958),\n",
       " (988.3197316265262, 539.5189463904053),\n",
       " (-845.7173711993928, 869.5684613357955),\n",
       " (-325.41662050197306, 405.3033123047694),\n",
       " (-517.6806718339401, 566.6024860049581),\n",
       " (455.22445828102445, 515.5714065787822),\n",
       " (755.4181012842482, 164.66639773921293),\n",
       " (542.6363143502274, 568.3010962509218),\n",
       " (734.0517683978851, 469.0327066132136),\n",
       " (-171.03650684071408, 986.57650613388),\n",
       " (412.5398248603776, 82.19234668515219),\n",
       " (342.68695841422095, 594.893594399743),\n",
       " (561.7604283914907, -406.2005331408167),\n",
       " (-456.15580286535453, 742.2663227551982),\n",
       " (176.19107776604665, 764.2082743226474),\n",
       " (237.34544980527994, 194.38528468473123),\n",
       " (-740.0672801902376, 879.5781553615118),\n",
       " (184.13137755302478, 947.5904000975584),\n",
       " (-276.9445397196997, 878.6484168915922),\n",
       " (-60.090657160599676, 823.3996225025644),\n",
       " (-227.27163350030594, 351.95461546849083),\n",
       " (401.5646056679336, 855.9575048673978),\n",
       " (361.30070446356376, 925.294902972717),\n",
       " (370.0572524895126, -0.17646864075391022),\n",
       " (589.4185036064666, -76.41718587223886),\n",
       " (334.44639992476687, 727.9453232279186),\n",
       " (918.8503866168555, 759.7670309899352),\n",
       " (685.5888492431209, 377.539144797003),\n",
       " (285.56432583817923, -4.445953137503011),\n",
       " (854.8384787975285, -246.77587445716267),\n",
       " (856.380321460105, -137.89018426587324),\n",
       " (676.5269703505842, -674.8551471725964),\n",
       " (-463.59366751684036, 713.7414053442187),\n",
       " (683.8294792300669, -434.5130334460255),\n",
       " (-225.11256063016845, 945.4362088436089),\n",
       " (403.7430752472951, 370.67425887979834),\n",
       " (110.9481088266798, 902.0373553983709),\n",
       " (5.34868997341141, 479.55091598482977),\n",
       " (-791.1086875399351, 902.6919427072155),\n",
       " (502.7324906759047, -76.9823633664464),\n",
       " (482.76463815451234, -0.17795892622120846),\n",
       " (-501.26321910096647, 618.9778136088223),\n",
       " (-250.16867098209298, 918.2570658212492),\n",
       " (-131.80579219046763, 301.54778175265983),\n",
       " (-37.992441186709584, 941.3341622093726),\n",
       " (486.8858163372083, 475.06612216111444),\n",
       " (461.3046976542464, -137.06847302744563),\n",
       " (217.789911624061, 924.6001867879543),\n",
       " (256.40659452246746, -101.34424599016495),\n",
       " (524.434966739376, 435.83690245649564),\n",
       " (-427.1390777908848, 595.806268564224),\n",
       " (454.0631720890576, 843.6911389071677),\n",
       " (812.5839278135691, -398.86228732085203),\n",
       " (966.99571132507, -435.8091165442195),\n",
       " (886.3584879251837, -95.81202745197095),\n",
       " (-771.7749310453548, 802.0718130193704),\n",
       " (721.1189197757042, 635.0496493918417),\n",
       " (676.0513396898823, 909.0598371550091),\n",
       " (535.0131773589278, -181.6053321364999),\n",
       " (-49.29527032680653, 571.86296890369),\n",
       " (962.4110192570938, 199.08279389946938),\n",
       " (977.2242216689244, 349.708276967104),\n",
       " (186.9821795759533, -180.76831167380453),\n",
       " (-150.59335447847673, 917.5339239395109),\n",
       " (864.0334989336598, 679.0603869292872),\n",
       " (522.6996011420495, -99.60166063240422),\n",
       " (403.9532381579106, 590.5011653675585),\n",
       " (50.103897638499575, 294.26070646409084),\n",
       " (244.76786851051338, 855.3478588499497),\n",
       " (-183.46568538762642, 799.6187709434832),\n",
       " (-328.19229436190983, 554.0572420744675),\n",
       " (860.4681968854618, 532.8114073449906),\n",
       " (150.01732159306266, 473.05665773796363),\n",
       " (543.6014362767175, -284.4914162987362),\n",
       " (97.8368594314918, 983.8392705675194),\n",
       " (718.5405080108799, 158.97248571286468),\n",
       " (-668.3464376691952, 953.0863340976141),\n",
       " (467.82409927039885, -208.7971952630205),\n",
       " (654.5064072305215, -568.3206438055157),\n",
       " (960.6275648513324, 591.9776794831121),\n",
       " (449.41204690909376, 479.7592607273591),\n",
       " (882.6839941312428, 962.312264344059),\n",
       " (768.0570913438669, -34.68367501234536),\n",
       " (684.9682835964604, 346.00993161586234),\n",
       " (357.9075558630211, 911.1563523321718),\n",
       " (-129.44234202104178, 662.1409182795089),\n",
       " (-298.6262783028866, 882.0774737857062),\n",
       " (242.75202666116638, 183.82760683133597),\n",
       " (387.71917310380945, 300.04544756221776),\n",
       " (454.1876258526645, 536.740892923589),\n",
       " (248.82531801788173, 835.4116287343447),\n",
       " (-324.6631283632902, 589.1396694824346),\n",
       " (433.32543637471326, 567.4476884250728),\n",
       " (39.15419649112869, 71.3008857450327),\n",
       " (609.4436332277965, -531.1399765134393),\n",
       " (688.217326516537, 612.5278833557843),\n",
       " (-551.3538119409127, 991.6611249636699),\n",
       " (843.4889889603126, 931.5023610360479),\n",
       " (795.4728118097069, 637.5831668307703),\n",
       " (785.5873033135758, -770.9163241777484),\n",
       " (788.0926456153982, 11.715668992648034),\n",
       " (-146.27231380022306, 233.36740703893997),\n",
       " (-821.6172507432074, 863.6456929498072),\n",
       " (82.4211199397214, 243.39041558509007),\n",
       " (971.2184206633317, -635.8136903720655),\n",
       " (-563.3174403698287, 844.9592040801779),\n",
       " (280.04233697634095, 373.88256944284944),\n",
       " (-41.47012603319979, 155.04183992062985),\n",
       " (869.5568603550769, -75.03880557068965),\n",
       " (998.2398447799783, -715.8390686698939),\n",
       " (-31.190560592242036, 80.31819489858276),\n",
       " (250.05548325803738, 800.7114859156409),\n",
       " (-263.8522872734095, 468.18243149567024),\n",
       " (145.37780589831868, 610.7156493633747),\n",
       " (470.8325189909283, 51.58207984519822),\n",
       " (440.4722798541252, 13.815275419193313),\n",
       " (-207.257734028492, 742.8754757494951),\n",
       " (788.0847352538042, -690.7852223297014),\n",
       " (228.68047893400376, -217.68712376909957),\n",
       " (-391.48075540286766, 792.0011871820548),\n",
       " (766.241102356373, 634.4837559450364),\n",
       " (963.1884483016263, 505.5727728981383),\n",
       " (-119.00880420162946, 131.76505008314894),\n",
       " (841.2329396808107, -656.6716834239086),\n",
       " (-548.2003240460806, 976.8094532350303),\n",
       " (388.09406965360404, 495.3695389070033),\n",
       " (864.2675465823797, -859.5675886379563),\n",
       " (-305.0382668647884, 774.4346754821606),\n",
       " (458.5456552431674, 516.9486262827313),\n",
       " (732.67724055637, 356.13029427211586),\n",
       " (635.1488085787812, 211.26444664295082),\n",
       " (992.4373894858263, -547.7763297443112),\n",
       " (-389.1133591988421, 499.01491933473585),\n",
       " (-890.0977110841945, 958.2931261784738),\n",
       " (606.914567268318, 246.20267601530395),\n",
       " (-532.5217858160345, 915.3333455382601),\n",
       " (-141.9390789998596, 151.29262390568283),\n",
       " (321.44707542750893, -237.17642814699786),\n",
       " (715.883065955863, -94.33010241296768),\n",
       " (87.66529872443061, -55.71130026256196),\n",
       " (995.4598999250779, -920.359811113957),\n",
       " (883.9269455593651, -68.250836129047),\n",
       " (821.8433934761126, 6.10765271882326),\n",
       " (78.1672809818449, 953.4447191846073),\n",
       " (688.5185481718447, 835.1057223205389),\n",
       " (913.1304747146257, 279.2211509652707),\n",
       " (792.8320387488773, 709.0827981539651),\n",
       " (-230.633326512032, 912.8211055557317),\n",
       " (823.8077763369465, 463.61722374019814),\n",
       " (885.9215084618941, -487.5257602568788),\n",
       " (530.1321989764303, -252.8446396393864),\n",
       " (576.115323846009, 312.1904666727528),\n",
       " (563.8842960874711, -444.6821621628035),\n",
       " (819.9203881475476, -529.9479160689607),\n",
       " (146.13698439726818, -10.623632275099908),\n",
       " (433.3587169483619, -112.584550699327),\n",
       " (940.026245146789, 912.9650843314078),\n",
       " (311.92307911102944, 126.09408198998017),\n",
       " (889.3180179430371, -478.8939506078668),\n",
       " (-323.2541565720453, 450.104520976839),\n",
       " (925.9513591402063, 290.50634489478944),\n",
       " (-280.0461718686769, 895.0036260213058),\n",
       " (219.3275474242107, -197.93287050474385),\n",
       " (216.7268864177613, 524.7428381233276),\n",
       " (825.8272070361463, 864.4857438140566),\n",
       " (995.6146601380121, 290.20898304815),\n",
       " (774.9438754641255, 969.1503644481586),\n",
       " (-302.7479090701697, 361.61419891597643),\n",
       " (380.82678764568277, 160.15202666736172),\n",
       " (751.0095548502318, 976.8975812855322),\n",
       " (647.5075825415881, 975.1167257669747),\n",
       " (-441.12867177012924, 685.3092184657646),\n",
       " (127.78041886242954, 805.8956694987291),\n",
       " (720.5653513690402, 561.6016049059351),\n",
       " (749.8114609490945, 235.62233652577538),\n",
       " (-19.3299469744195, 349.1618350893416),\n",
       " (572.6509387295607, 323.2249332645988),\n",
       " (973.9634324437754, -516.5102612006776),\n",
       " (-842.0302639283497, 982.2987359361966),\n",
       " (-274.6866116696982, 407.1707783419722),\n",
       " (420.6798340540961, 429.3166895758595),\n",
       " (168.73236024742573, 847.9858397246546),\n",
       " (77.26880005718226, 463.4515691197678),\n",
       " (-410.2003464193274, 924.0903477829918),\n",
       " (606.256975814867, 77.9742100476758),\n",
       " (926.599011306907, -920.0596397914618),\n",
       " (246.8993051690693, 391.58863372067026),\n",
       " (617.5859301279991, 873.9271566228958),\n",
       " (-225.7252024230778, 799.242776417957),\n",
       " (490.544935057854, 379.0362220818083),\n",
       " (318.4253586525956, 998.1480212836912),\n",
       " (236.8179419521191, 734.2758651557167),\n",
       " (-175.8674682059567, 251.8855608758147),\n",
       " (-547.4852821852103, 593.2926627525912),\n",
       " (345.33666361804626, -32.175348451739524),\n",
       " (518.0978365706028, 15.928880765011286),\n",
       " (232.5544036963763, 830.6590890406976),\n",
       " (859.9568828197037, 775.2257313839091),\n",
       " (212.7600508793978, 211.03935961229058),\n",
       " (408.5540145726759, 919.6222255777843),\n",
       " (944.6924720367506, 95.24724394915029),\n",
       " (-350.99973320755623, 384.4419007164918),\n",
       " (217.9428667258744, 263.46832632647624),\n",
       " (130.70440331937766, 663.7998560941767),\n",
       " (492.94433998027284, 652.1372822383503),\n",
       " (991.8254338169907, 704.7181340212794),\n",
       " (267.17403135982386, -217.39090803341333),\n",
       " (4.432865970914577, 714.0387328708405),\n",
       " (-673.4839385456819, 953.1089967532785),\n",
       " (142.2360849877814, 257.1297853860258),\n",
       " (-368.41125943835414, 511.5356487875015),\n",
       " (810.2138600079795, 261.79654127539493),\n",
       " (147.9685618105077, 833.4435561416608),\n",
       " (204.55639370375457, 577.8180251336644),\n",
       " (829.8668687330264, -788.5239579870597),\n",
       " (807.8274549939183, 410.6696488491764),\n",
       " (-410.78256832792783, 641.6629447740404),\n",
       " (-674.6797964189249, 964.0772111553365),\n",
       " (432.2399383568213, 970.4434975867482),\n",
       " (404.0760911095524, 655.0004664666069),\n",
       " (-391.9670602122942, 899.0162658013521),\n",
       " (909.7896319850563, 472.2810098160503),\n",
       " (866.7223276773962, -201.432865512857),\n",
       " (544.9783044035166, 244.97140491797154),\n",
       " (484.6875085552949, 216.2394213761977),\n",
       " (507.63190672651285, 197.48481101013908),\n",
       " (815.8058452481137, 524.2016652305363),\n",
       " (509.741654395835, 582.9662784147529),\n",
       " (449.8786961052642, 648.7341929530032),\n",
       " (-15.950408833322172, 989.976953620466),\n",
       " (302.878778517673, 334.1412054501568),\n",
       " (219.30771712382352, 554.2225394823413),\n",
       " (369.4883769250673, 652.6232370965238),\n",
       " (808.2426874792088, -445.7456353012208),\n",
       " (365.6059055103526, -257.0123543965299),\n",
       " (-761.3814351826087, 764.8601536287695),\n",
       " (249.01359018015546, 810.4320900855837),\n",
       " (-506.51909232221095, 524.4765134043669),\n",
       " (-271.49488896909406, 803.1743397178661),\n",
       " (867.4851818817506, -862.3286909038499),\n",
       " (760.1051131239669, 336.9978402247855),\n",
       " (-353.31761973700134, 923.9103316270573),\n",
       " (-30.423639563396364, 495.11723555999333),\n",
       " (971.3737382689562, 272.77993802845526),\n",
       " (458.27181311554887, 238.9843871193134),\n",
       " (421.77218567997124, 790.5545855450853),\n",
       " (594.643623797999, -300.8588067490409),\n",
       " (200.9595062502226, -71.00316765703349),\n",
       " (465.3149828763403, 630.9575237393647),\n",
       " (519.2719461373324, 760.3051588239289),\n",
       " (713.7434970022875, 62.79693856385438),\n",
       " (-674.6716469119889, 744.9218384321409),\n",
       " (222.3480784491553, 971.1923061168507),\n",
       " (928.5329097725551, 43.78014664941338),\n",
       " (219.52777399560546, 640.5710761731541),\n",
       " (641.7424011666758, 313.1702308997717),\n",
       " (-85.19116545801171, 782.6340865752034),\n",
       " (417.01435360153664, 798.9576374484398),\n",
       " (153.03655339495504, -101.14363037734324),\n",
       " (776.4502674246737, 570.6901349502396),\n",
       " (354.2093196763474, 941.4536505259684),\n",
       " (-593.0249244904583, 938.8262609175401),\n",
       " (-499.6967755816157, 789.686750578948),\n",
       " (963.0411347423299, 357.09997203852777),\n",
       " (-425.7303060947979, 803.0616714106559),\n",
       " (502.20691746829493, 547.4614529936218),\n",
       " (49.484264675885015, 351.7815946721935),\n",
       " (551.1186968063494, 345.6291524324831),\n",
       " (592.8467343057871, -471.1469154677675),\n",
       " (501.9918266098409, 163.59331442324606),\n",
       " (611.7629412906902, -135.05518728608195),\n",
       " (-621.3673260880496, 961.8792226466412),\n",
       " (363.7354035529054, 243.90917309116298),\n",
       " (748.3202294129646, -258.2085418175384),\n",
       " (290.8717439111324, -188.7251569261881),\n",
       " (643.2191842180052, -115.77319015075966),\n",
       " (-18.188334832829128, 368.11885497366393),\n",
       " (165.86737879632437, 373.7960921650274),\n",
       " (373.052866468121, 770.3995100488517),\n",
       " (458.8512211129803, -166.04975417186813),\n",
       " (266.11330653107825, -139.66866615071876),\n",
       " (907.4889391969773, -397.41955605698536),\n",
       " (487.6190417919563, -405.7854948621132),\n",
       " (260.19320410747173, 96.39787723327049),\n",
       " (-277.37835023855496, 321.0127204288169),\n",
       " (569.55458457891, 438.38461640477817),\n",
       " (-414.6526334568532, 858.4723724220607),\n",
       " (490.5255745924828, -278.25990665460654),\n",
       " (-359.86161673764536, 859.2779624637371),\n",
       " (656.8008575061972, 988.7862354036738),\n",
       " (821.8432911580915, -346.35927570412605),\n",
       " (578.791930756368, 290.81430819037087),\n",
       " (955.1985671057444, -556.0969306374443),\n",
       " (823.3252938348028, 157.00426311785736),\n",
       " (-284.56602243696466, 351.4170566386447),\n",
       " (960.1318717338684, 290.3104500578238),\n",
       " (750.2041973517785, 169.95815831946402),\n",
       " (702.2862966574965, 148.20899940308982),\n",
       " (908.7296159514156, -852.5640224893372),\n",
       " (-541.5825165439259, 757.9338228195875),\n",
       " (385.93626277605404, 259.313937631832),\n",
       " (478.6568745510051, -50.44377420142541),\n",
       " (394.90906361960015, 1.1737658662538024),\n",
       " (947.0977771102359, -24.97620740867785),\n",
       " (568.2022912783702, -228.921007700897),\n",
       " (999.965428300482, 224.0350445328438),\n",
       " (535.2385669494547, -292.1096187720807),\n",
       " (-99.13488136625494, 127.42257712925266),\n",
       " (942.3861227086363, 319.9432200883243),\n",
       " (615.4976169580093, -258.67523296327863),\n",
       " (-204.52695003068698, 512.8749548919939),\n",
       " (-362.3629915091677, 851.5246323442689),\n",
       " (-82.92494205350476, 604.8225048443765),\n",
       " (821.9387903624804, -46.01166191742004),\n",
       " (-282.0563911053822, 904.7197973917173),\n",
       " (-220.2533887198066, 824.243499267131),\n",
       " (-480.73775874739226, 512.6078307065113),\n",
       " (734.9460928254512, -448.2043857147919),\n",
       " (106.40881792762252, 597.549043501677),\n",
       " (-704.4832458517726, 741.2824950348886),\n",
       " (-590.0365917950985, 661.7488445789418),\n",
       " (593.8895837079074, -302.4275829753891),\n",
       " (482.28621691209264, -369.85741440946595),\n",
       " (818.301957455916, 248.17993166496603),\n",
       " (875.7685063588196, 552.9259229942345),\n",
       " (-56.53284151558057, 824.2600924384512),\n",
       " (819.3906596756894, 819.8475840779245),\n",
       " (618.0397043922956, 780.3184648004271),\n",
       " (47.99368388594621, 672.5428293942041),\n",
       " (377.7979130775975, 214.82962929765836),\n",
       " (386.0018988864206, 803.6813665554489),\n",
       " (-677.803788751814, 935.3031302467152),\n",
       " (321.82054673606376, 36.377143393517144),\n",
       " (12.603924665297313, 100.502066781944),\n",
       " (923.8949763358366, -857.5349870783049),\n",
       " (-136.15211251027984, 337.6631989906555),\n",
       " (-580.0057944312932, 754.5348842165665),\n",
       " (37.80866420380312, 483.41113235477746),\n",
       " (958.4383627028717, -253.4609595651773),\n",
       " (372.9101933332056, 886.3450284279829),\n",
       " (979.5991301915608, -374.6018959955684),\n",
       " (110.73824668413567, 48.859149451295934),\n",
       " (-562.4130951398715, 675.4625531777074),\n",
       " (-836.6310157833275, 985.9954311253373),\n",
       " (434.4504365071359, 618.6380165024532),\n",
       " (-481.6523509130992, 961.8922270226087),\n",
       " (415.9772407254068, -290.2486191438061),\n",
       " (-39.43054324018874, 423.7109830679676),\n",
       " (682.6635761051023, 480.3074665093261),\n",
       " (769.3781467225685, 135.84088987219798),\n",
       " (924.337262749372, 405.0322077940466),\n",
       " (441.43285028310083, -109.6127845708885),\n",
       " (687.2966963068254, 239.41929475471488),\n",
       " (-237.71866485973226, 296.83559448040705),\n",
       " (187.43123449849168, 728.4296210898078),\n",
       " (978.9390523187546, -899.3460189849698),\n",
       " (-141.83742397629157, 539.8286022272596),\n",
       " (270.35650687310863, 27.74061487590393),\n",
       " (-116.85333266540715, 713.6995718798507),\n",
       " (769.5791615429055, -224.30842580823196),\n",
       " (305.4095345199423, 738.8611425132747),\n",
       " (636.3656652822574, 950.2392735246408),\n",
       " (512.4108201998779, 365.53422062026993),\n",
       " (601.2658029269437, 11.169678466369987),\n",
       " (387.18005185576067, -151.7191572322896),\n",
       " (489.40736165005956, -274.27410314161955),\n",
       " (-215.03321939797002, 239.44286109643372),\n",
       " (-847.4031599929632, 986.130509173069),\n",
       " (722.1879741509492, 541.0948141437448),\n",
       " (189.1096452265151, -149.68007059212857),\n",
       " (968.8108095247321, 663.1056932711697),\n",
       " (193.91123551967462, 414.59508948315465),\n",
       " (-306.76942166857896, 483.55306012896017),\n",
       " (321.00737925597537, 338.7676430011595),\n",
       " (406.18018972072946, 639.2502955082844),\n",
       " (-449.1090137735023, 884.2782575786487),\n",
       " (994.7916661298368, 514.9029764565184),\n",
       " (978.1070658824542, -72.15838687719065),\n",
       " (480.2385961294133, -327.90555001342113),\n",
       " (549.0395681939094, -264.0866882034844),\n",
       " (17.716410384572782, 275.0365700580451),\n",
       " (123.44135783554748, 998.8724890278206),\n",
       " (577.8710420709135, -408.0045950546503),\n",
       " (715.5300508536463, -276.78490964187904),\n",
       " (941.0453014864731, 37.160720174106245),\n",
       " (-534.7219314173475, 666.4548125351453),\n",
       " (720.5454575523952, -407.5061252931233),\n",
       " (820.0326206131413, 587.0780287397249),\n",
       " (192.59552958517975, 403.386275534765),\n",
       " (-736.1191682614469, 853.397900677687),\n",
       " (-249.31565792700133, 386.7170364294477),\n",
       " (498.5434054056102, 387.84241903276325),\n",
       " (-464.0021090943984, 611.9869665466465),\n",
       " (446.016084802907, 711.0642470951661),\n",
       " (-56.727376592936366, 215.17594024503728),\n",
       " (832.9484421851766, 630.5168765013286),\n",
       " (-62.20735340392491, 946.8181644712051),\n",
       " (465.68162023865216, 989.3052775011813),\n",
       " (-147.95583699069743, 391.7109496807675),\n",
       " (995.1502660917647, 604.9762750501743),\n",
       " (338.0580493862233, 423.3242742883922),\n",
       " (818.9646230681549, -474.04229895082767),\n",
       " (951.2961730062132, 728.6098878716616),\n",
       " (651.9944888077512, 693.4581890706456),\n",
       " (-273.8504172941747, 364.04258531463597),\n",
       " (-225.26043443240712, 742.6422674106952),\n",
       " (496.3007149859359, 169.70645704399476),\n",
       " (984.8741569846441, -87.88843167381799),\n",
       " (388.3351689297749, 639.7601396037414),\n",
       " (10.087056738246702, 820.8455156005759),\n",
       " (-393.4191472269524, 556.4042773250135),\n",
       " (224.58494415293103, 212.7850973182119),\n",
       " (-304.3454092119317, 874.3695864055342),\n",
       " (-33.615839755635875, 771.8901644203713),\n",
       " (-794.3869040616378, 965.4072276450174),\n",
       " (784.1332341245832, 924.6366425250949),\n",
       " (106.50419555912185, 24.459390174014743),\n",
       " (248.10584871199467, 294.6445690420219),\n",
       " (828.5142398559285, -466.30389823763994),\n",
       " (832.844140849513, -99.24106500487778),\n",
       " (686.9172964656348, -333.5723218308426),\n",
       " (893.202067906057, 788.9014161182502),\n",
       " (584.054563491313, -538.376320488157),\n",
       " (595.7560609425391, 413.5543737067328),\n",
       " (649.2016897480144, -294.1527134082555),\n",
       " (555.3226920474608, 366.5040473841757),\n",
       " (-110.87836299027538, 417.1453665233141),\n",
       " (381.45269532539805, 48.98120127225411),\n",
       " (-718.8457345352106, 811.1507380677051),\n",
       " (82.40211082588121, 849.2721562317649),\n",
       " (163.14061993709288, 398.62519789438943),\n",
       " (-122.65553143846341, 243.55523151653165),\n",
       " (566.7946171176472, 870.6233712846044),\n",
       " (-46.42876445301795, 407.1152683554317),\n",
       " (-512.0339095062086, 663.0508127105004),\n",
       " (672.2917671712587, 157.11337735288294),\n",
       " (-224.92875511087004, 596.9316472674329),\n",
       " (-278.16073033122507, 898.232679343776),\n",
       " (720.5308824843653, 222.05376809536847),\n",
       " (367.46926984249126, 332.41108516347936),\n",
       " (889.3166879629609, -108.45272967105848),\n",
       " (598.0437678283861, 753.9176744309214),\n",
       " (-85.57934287565263, 969.5631814580622),\n",
       " (970.1045825639353, -43.962678387724054),\n",
       " (982.7433842097992, 982.0971945894185),\n",
       " (945.3292347703621, 593.8223621588938),\n",
       " (937.6231267249411, 176.7635976526915),\n",
       " (680.7406066024948, 776.5566650585831),\n",
       " (-234.28604284518076, 445.57428097117077),\n",
       " (-775.4570436816387, 815.2896648881347),\n",
       " (410.87540815974694, 680.9556212621171),\n",
       " (82.7379487684841, 335.36648473545597),\n",
       " (699.2995719797595, -30.042157828134464),\n",
       " (424.42271571746323, -139.970700500377),\n",
       " (-62.15285846373854, 508.96495229843003),\n",
       " (522.8567419014494, -241.88367168013497),\n",
       " (-89.1253436494801, 910.5616849229948),\n",
       " (886.9855315722345, 423.9495182240762),\n",
       " (-742.7249833192926, 889.5788666712365),\n",
       " (-722.2732069257718, 724.709449375302),\n",
       " (307.7747410458171, -228.98358986099572),\n",
       " (202.13468850833124, -18.702298055173628),\n",
       " (313.7358998905527, 793.6494907377892),\n",
       " (-559.5777221792939, 982.9913249659971),\n",
       " (976.8419090352115, 272.0637479101649),\n",
       " (529.3678146922327, -126.0689381381377),\n",
       " (995.0161454466365, 787.9662849577685),\n",
       " (897.8804449037361, 697.5250352009691),\n",
       " (272.58008598568017, 695.1392869431572),\n",
       " (999.6403776141451, 315.0779099899755),\n",
       " (-213.57831574414445, 960.4445787565255),\n",
       " (691.6000684866679, 353.3684910696427),\n",
       " (-302.81575148151444, 799.8678311320991),\n",
       " (830.2324540433749, -372.61291787027346),\n",
       " (-440.69527122475586, 836.4405963721654),\n",
       " (578.9694731392701, -33.49053591140887),\n",
       " (461.2462045695447, 744.043130195414),\n",
       " (235.93058590846613, -38.209388002327046),\n",
       " (-408.0555631198757, 517.5171933946028),\n",
       " (215.65506718072834, 720.5980831998495),\n",
       " (-177.6796568149515, 758.674483539598),\n",
       " (907.7752204039043, -75.47618527586826),\n",
       " (308.1228372633377, -265.2627110812489),\n",
       " (489.24203711428686, 685.4556872962155),\n",
       " (270.8394109147523, 383.5492955603936),\n",
       " (618.5649168616503, 719.3027904262244),\n",
       " (-32.850257567397875, 695.0977295275106),\n",
       " (798.7646940164411, -619.1838152731818),\n",
       " (-135.0722374940567, 759.8047252228803),\n",
       " (-477.9157019071239, 687.515821412266),\n",
       " (-665.6219216059114, 806.9096343581323),\n",
       " (189.8812770251559, 128.03650729993797),\n",
       " (794.4968706553555, -113.36946411419444),\n",
       " (854.2410576449479, 130.2237738108986),\n",
       " (704.062249234468, 261.6492408572467),\n",
       " (-348.86714446672374, 932.5270653281145),\n",
       " (362.5293768974134, 619.1082376808322),\n",
       " (733.3592959103396, 658.4578514901093),\n",
       " (425.48169099465827, 427.4359886468949),\n",
       " (-296.5481526118432, 467.19506632615526),\n",
       " (-384.6168811210615, 686.184982602726),\n",
       " (308.11500362271795, -46.15502008835119),\n",
       " (274.58575373845156, 955.4599661111524),\n",
       " (674.8209934771394, 360.08267133458094),\n",
       " (-564.4324542722541, 980.4973332288455),\n",
       " (-597.7815558457917, 830.5056576631423),\n",
       " (-164.82601651707853, 523.1093106481426),\n",
       " (-750.6450229310442, 989.9479092525905),\n",
       " (136.21318959527912, 787.8944394762609),\n",
       " (221.95010713307897, 5.68993863751848),\n",
       " (461.7867653842932, 979.7652107647018),\n",
       " (780.7693001178764, 795.9007843173233),\n",
       " (819.6279400925575, 979.6573740689485),\n",
       " (-351.26087441116624, 605.4676364598204),\n",
       " (966.6541198563712, -199.10046135308983),\n",
       " (952.4235126775723, -645.7998161750082),\n",
       " (-489.1919706529195, 630.5863537279654),\n",
       " (959.1218293404738, 978.9701233597066),\n",
       " (-164.10018921396352, 898.6777020441755),\n",
       " (555.3793756430975, 325.3385576381995),\n",
       " (364.0842449283082, -357.78849826118073),\n",
       " (-192.2427009437688, 433.45114031224284),\n",
       " (781.975876062429, 209.7769433687995),\n",
       " (-761.4593130089065, 929.9992459455523),\n",
       " (453.42705217970934, -344.9480762640111),\n",
       " (924.0243413346113, 942.682876821918),\n",
       " (661.1815182084626, 726.5833676083191),\n",
       " (123.23389230383441, 344.6772770114544),\n",
       " (947.2136925443526, -685.4398077907649),\n",
       " (423.7884184061661, 877.1698920925564),\n",
       " (-284.718335005697, 760.2011579919069),\n",
       " (908.2425922895125, -288.28187651570045),\n",
       " (815.5903505870187, 944.4656263877214),\n",
       " (225.49288562731726, 295.6600149799003),\n",
       " (28.748803890580803, 52.77432774776139),\n",
       " (-24.899329272153068, 624.9316068318335),\n",
       " (56.673666194102, 901.7301229706325),\n",
       " (990.5607912585497, 364.1637340766415),\n",
       " (-288.6356000527379, 566.7921107843042),\n",
       " (620.2960494630477, 61.73479981428295),\n",
       " (784.6956542898552, 285.7309137482557),\n",
       " (686.7326460226916, 321.2758541840976),\n",
       " (304.1241987046276, 420.44238162980537),\n",
       " (373.3030306134117, 870.4451428967875),\n",
       " (933.9054341946244, -239.10560589532577),\n",
       " (128.54624576368224, 893.635331585444),\n",
       " (483.85332807368354, 543.5659137427265),\n",
       " (-265.6158520090752, 869.5105141636229),\n",
       " (987.5111408128782, 491.7905236996319),\n",
       " (901.6237449248194, -493.71517549688116),\n",
       " (977.3652281154548, -873.9786445310615),\n",
       " (-174.97867771600477, 723.4326153219879),\n",
       " (565.199793576628, -458.54995160232147),\n",
       " (401.8713354145211, 466.5711935600582),\n",
       " (730.725836133606, -557.1796393313316),\n",
       " (582.0881122249034, -438.937720504381),\n",
       " (-115.12956906462637, 394.5071347968874),\n",
       " (-201.32019017738378, 429.31165126759424),\n",
       " (595.6626665920717, -347.2213782999962),\n",
       " (-36.164358524888485, 597.2550326157566),\n",
       " (666.2632714737431, 666.2668318161072),\n",
       " (-376.85542516575526, 750.1967090385597),\n",
       " (304.3045230611026, 94.42273962540207),\n",
       " (831.5877270712581, -766.8809482422081),\n",
       " (-82.59935524312345, 595.7978726851752),\n",
       " (384.67249329943047, 442.13078120923),\n",
       " (-625.1192175903179, 769.9882795264436),\n",
       " (319.0217343915763, 44.53147974777971),\n",
       " (543.611836253865, 214.81589454810228),\n",
       " (205.46839606012645, 894.145330072374),\n",
       " (513.5247725159609, 547.0488643555375),\n",
       " (100.53701437981158, 624.6890300150576),\n",
       " (513.7950131856926, -375.09438080282155),\n",
       " (978.6289511871637, -660.5883261231456),\n",
       " (49.48379126388477, 231.74617360191314),\n",
       " (-645.5570181768651, 943.7524445142642),\n",
       " (388.99271432995283, 436.14251459081834),\n",
       " (693.9570256042907, -539.1888670928842),\n",
       " (940.0623226569141, 780.7504319390175),\n",
       " (274.4990771377404, 325.4187754093409),\n",
       " (-594.92301201482, 970.0835150671169),\n",
       " (833.4190884149568, -796.1953947973528),\n",
       " (830.7378449022192, 576.2920267365384),\n",
       " (117.14178973133312, 557.5042642754338),\n",
       " (743.3609991035107, 900.7886761245682),\n",
       " (812.2829483706753, 901.5768902615034),\n",
       " (-133.03119065062629, 215.13844091716192),\n",
       " (673.2525196252093, -631.4871559097792),\n",
       " (-575.8450436825701, 865.2350911616845),\n",
       " (600.4577983733359, 215.9569806943482),\n",
       " (-24.31667440299327, 885.443949084922),\n",
       " (195.5701886130514, 94.19429027211959),\n",
       " (-82.32639056477535, 179.06467058155658),\n",
       " (362.33003637949764, 358.2244752181093),\n",
       " (845.2576830271946, -617.0083367086412),\n",
       " (-653.7007588427869, 659.1062904839539),\n",
       " (539.1202952881013, 22.280802764260898),\n",
       " (-474.0411535303932, 902.917906325107),\n",
       " (-220.30148289080364, 988.9535622698045),\n",
       " (853.1613999209146, 549.4551826122677),\n",
       " (275.3391835382454, 685.1078405594626),\n",
       " (662.2414470457065, 735.5127471755065),\n",
       " (347.0865496524393, 475.5770822242182),\n",
       " (-174.56604541060017, 975.6573179281054),\n",
       " (802.6286720875364, -539.879394332009),\n",
       " (872.9454063200571, 79.32356303632878),\n",
       " (590.691797583389, 971.2069180728474),\n",
       " (799.0624919637323, 841.7979035392016),\n",
       " (649.6058805064729, -275.0309452992676),\n",
       " (-156.78230891048224, 330.1522176973583),\n",
       " (715.8065808899185, -500.9960350243716),\n",
       " (350.31550121472264, -313.1754943777911),\n",
       " (174.39434196829552, 788.8838066113365),\n",
       " (552.3355249934468, -326.0860745819738),\n",
       " (615.5551998256049, -437.14498495737143),\n",
       " (279.13601399612753, -128.45413341252038),\n",
       " (29.416939023798477, 26.679860415281837),\n",
       " (758.4647236921387, 4.694614451005123),\n",
       " (916.0963523958583, -21.585182033695673),\n",
       " (-240.34485425475862, 839.7786950314041),\n",
       " (768.0745209537226, 862.8650942383615),\n",
       " (803.8417383597257, 625.4518032066308),\n",
       " (522.3753051250574, -7.789139298331747),\n",
       " (509.22942122157906, 959.9519371219362),\n",
       " (275.5610214696128, 812.2496036952796),\n",
       " (683.4153963910342, -307.06890554248093),\n",
       " (800.719265836342, -741.1880138715342),\n",
       " (-8.886823036766032, 340.3472077855813),\n",
       " (866.4632221838901, -291.4299268411926),\n",
       " (938.0548533172375, -560.3150837028577),\n",
       " (489.16492737165277, -42.00420380889307),\n",
       " (594.4190101416964, -3.3183373557345703),\n",
       " (987.7171917135129, -665.8714292086295),\n",
       " (-280.3343733066632, 623.2102844002493),\n",
       " (414.3166417140442, 738.0413870151458),\n",
       " (947.0264786220835, -266.3672298059456),\n",
       " (-165.5284266045785, 429.77650533352517),\n",
       " (728.2723382792112, 445.2492540600101),\n",
       " (100.51847263851232, 519.7730466206149),\n",
       " (-49.96092118127399, 633.232189452187),\n",
       " (-50.97556516783493, 653.5289931684702),\n",
       " (954.2113766875002, 606.6225272737177),\n",
       " (132.17736391011772, 574.6457334259437),\n",
       " (330.33701387714086, 346.0432981067063),\n",
       " (257.50549562418655, 472.34650602454144),\n",
       " (999.2407492439149, 432.3747536363728),\n",
       " (611.275578396443, -282.36780150447214),\n",
       " (77.15247170800626, 112.94467789964028),\n",
       " (-226.4733495848899, 892.6993836884462),\n",
       " (839.7041204650966, -792.7790925949174),\n",
       " (881.7212972596683, 620.5920874401302),\n",
       " (762.1960853804526, -225.35802440363238),\n",
       " (-158.17142237939663, 176.793527517882),\n",
       " (341.81210090923605, 55.34228193953891),\n",
       " (827.3101552819576, -43.91165867490486),\n",
       " (827.7364853945942, -339.64703026551615),\n",
       " (-254.69614772573482, 910.8638964758313),\n",
       " (92.22443742087398, 639.6828163092898),\n",
       " (984.687870816532, -645.0773143918993),\n",
       " (652.6393150386389, 464.7879672622548),\n",
       " (795.867918027607, -434.89176999880885),\n",
       " (-312.5140256773635, 550.9862519520943),\n",
       " (708.7461051703158, -402.51776383076447),\n",
       " (748.0189610114883, 980.9154107632171),\n",
       " (890.1663368029795, 920.0287303925838),\n",
       " (515.2998881448202, 117.68958388416695),\n",
       " (903.6592721429893, 802.07981648377),\n",
       " (320.107793909556, -287.53029737275335),\n",
       " (858.2266890657629, 63.6692707839029),\n",
       " (807.4800212446637, -73.98103948647417),\n",
       " (221.55781433253583, 113.83268984299048),\n",
       " (-959.5706075207909, 977.698819183132),\n",
       " (182.5876185320849, 364.46405525102546),\n",
       " (586.2034372189191, -492.17398728148055),\n",
       " (-83.97258209518816, 298.6735539892841),\n",
       " (-662.5533496153864, 765.3007191165254),\n",
       " (636.5438927281223, 48.115456861168695),\n",
       " (94.42092980556413, 863.3391281052582),\n",
       " (245.62902809553498, 527.372836846323),\n",
       " (574.6852629908801, 149.65067927954783),\n",
       " (-323.45948518230716, 712.5798976420558),\n",
       " (965.6492664092814, -773.1925811419968),\n",
       " (890.2484655260507, 66.80796106075127),\n",
       " (252.33321512049406, -17.283192215653344),\n",
       " (-53.06560301600928, 466.60581222047017),\n",
       " (272.96853299745044, 895.7393401560457),\n",
       " (315.83287538118566, 133.67468642757763),\n",
       " (981.7761751284113, -526.0486797781083),\n",
       " (148.5106004264053, 372.45033334778236),\n",
       " (572.1913227775758, 643.342507495975),\n",
       " (640.3918388402449, 248.71526782814135),\n",
       " (309.3361529181193, 130.18912727603788),\n",
       " (-162.0906599574961, 873.8513409940097),\n",
       " (926.6110979944419, 714.1649543756673),\n",
       " (786.5824507268371, -748.5345007189829),\n",
       " (788.7040555437018, -7.3763277661161055),\n",
       " (643.4864337040863, 168.97088241746792),\n",
       " (241.64678884835348, 757.0491396543982),\n",
       " (706.5678428282802, -597.647387468156),\n",
       " (856.1809362397883, -352.73398264524155),\n",
       " (392.2670897061098, -275.59957096488597),\n",
       " (453.9662570852706, 542.3092874722356),\n",
       " (951.2960253026015, 221.75279655924305),\n",
       " (-56.26068391231672, 116.50922119187999),\n",
       " (-367.1400969498735, 736.839699586611),\n",
       " (780.8970490420677, -101.60780405441687),\n",
       " (449.44293517516167, -401.0392582470772),\n",
       " (885.8840002733828, -843.2802721825432),\n",
       " (359.7005239912569, 698.2016649402663),\n",
       " (915.5762314074016, -10.768240047123413),\n",
       " (-691.171623016452, 809.1062235544262),\n",
       " (-293.5616446229201, 882.0981108698761),\n",
       " (-258.14318724041834, 543.0720378526607),\n",
       " (217.2591424036509, -9.76354737396548),\n",
       " (551.1916371278994, -480.6718114105471),\n",
       " (749.6204141471692, -547.9332807898284),\n",
       " (476.60894039280606, 453.6580020650031),\n",
       " (719.3177424947728, -77.10446552140127),\n",
       " (859.9006764055703, -183.71153919447943),\n",
       " (842.9974653216468, 826.3315283453494),\n",
       " (-44.14217111044411, 645.0657583161023),\n",
       " (553.1875119766346, 562.3388254845756),\n",
       " (753.5633482613018, 228.66435864470873),\n",
       " (501.0519526638693, -47.695701032421766),\n",
       " (306.23763107917057, 396.22676238812187),\n",
       " (791.8081302231333, -538.267254205648),\n",
       " (-278.43009006296086, 603.8927179994316),\n",
       " (-244.3600213694075, 872.7346610050395),\n",
       " (131.90888114033078, 453.45645087915295),\n",
       " (-419.53359475637785, 622.4733812695604),\n",
       " (264.23757552218603, 705.2029593608656),\n",
       " (764.5965509840601, -3.09285451976109),\n",
       " (456.38303789541874, 699.9848590776003),\n",
       " (924.6539262687054, 524.6125926028144),\n",
       " (-408.9073702574633, 926.3542883909017),\n",
       " (-359.4478643207641, 855.1493111642562),\n",
       " (-122.30935421354832, 531.6612850508045),\n",
       " (991.8802304089013, 625.0778287599996),\n",
       " (628.1176667399614, -411.3981886031854),\n",
       " (788.9031898336502, 135.68179575875774),\n",
       " (405.3797480207936, 520.1545887431726),\n",
       " (880.1093852821577, -358.5109806205726),\n",
       " (-780.8864168767104, 914.1668583983032),\n",
       " (753.7069434234743, 625.1719328125416),\n",
       " (590.2103625830302, 968.9459869887926),\n",
       " (674.7146699716955, -459.04078218782024),\n",
       " (687.3040055412525, 699.8244929445248),\n",
       " (621.0739439703757, 325.67524415402704),\n",
       " (-396.6860229997043, 862.5891757158815),\n",
       " (-267.0463217916117, 823.5501673498875),\n",
       " (831.2194211667693, 910.8710606432219),\n",
       " (700.0985867925233, 682.5412435164408),\n",
       " (-482.9979493043188, 546.1197426239664),\n",
       " (-246.57139786960386, 414.1082694898871),\n",
       " (946.9595508301354, 835.9744248267789),\n",
       " (875.3631221366934, 866.10081779643),\n",
       " (764.9077418152538, 816.6129867498978),\n",
       " (786.0358655631203, 318.18674265462823),\n",
       " (914.593884373103, -862.773025243015),\n",
       " (476.6640002389247, 891.7742370993449),\n",
       " (-629.8222317868547, 733.6334702597446),\n",
       " (297.2626396889982, -102.42138003870241),\n",
       " (-646.4721538688348, 813.0734503596605),\n",
       " (426.39899771983073, 672.5572469016925),\n",
       " (783.7072821253876, -418.02958991202104),\n",
       " (539.3669957314894, 600.5160226024159),\n",
       " (408.91142856900933, 288.57563175584914),\n",
       " (75.54399450595906, -30.454506148562587),\n",
       " (892.2106927944214, 904.2782681927861),\n",
       " (84.64880435040186, 914.5663633344241),\n",
       " (664.1036533381421, 374.9571486740699),\n",
       " (-3.4862845383798913, 692.9351754380109),\n",
       " (831.0813717574679, -805.7621976171474),\n",
       " (517.3572121617115, 824.1691571024876),\n",
       " (659.8205718502031, 754.7760842741561),\n",
       " (-149.26247403786874, 358.74302988082513),\n",
       " (581.4016785933472, -374.6352276346729),\n",
       " (752.3634493634188, 806.2620379237194),\n",
       " (275.28721488237716, 906.7704917537926),\n",
       " (927.6289001598761, -300.4277934514737),\n",
       " (542.6756215457797, -313.67694145346127),\n",
       " (-267.9007751785749, 342.57494525057837),\n",
       " (528.2658427869108, 278.10121614624177),\n",
       " (-525.531925593615, 947.3919795665356),\n",
       " (289.7525758796844, 921.3080670804218),\n",
       " (225.29323026391398, -0.4315168602392987),\n",
       " (474.35870054039015, 268.5380282218414),\n",
       " (966.328770943805, -711.6555871905397),\n",
       " (294.43609573468575, 274.9273388229383),\n",
       " (153.27312115829614, 9.359564374168144),\n",
       " (149.9779523252323, 592.8458987429742),\n",
       " (-328.0485264012416, 559.4422101277196),\n",
       " (206.2782930209239, 298.93803120086454),\n",
       " (-122.27570124219221, 962.4611734249659),\n",
       " (905.0603515713972, 915.9496526154162),\n",
       " (814.3091686530017, 996.6193398914379),\n",
       " (436.68458917097996, 456.87706097421915),\n",
       " (299.77691859342667, 182.86632336246885),\n",
       " (861.3885210305684, 800.7713184234944),\n",
       " (-487.0900097963731, 521.7801217643505),\n",
       " (-501.24584215260603, 964.4455183327539),\n",
       " (646.975891788077, 914.1368600837864),\n",
       " (635.753460410356, 954.6437401766971),\n",
       " (176.76910777711373, 888.9296926742575),\n",
       " (886.7942195843502, -622.6829026063872),\n",
       " (238.0789430106895, 538.2729842666906),\n",
       " (338.2642400891202, 119.24671934675939),\n",
       " (-214.62684347572417, 487.3089677264077),\n",
       " (-693.7843007184625, 951.6652552123085),\n",
       " (-365.9140229283928, 676.6707158493527),\n",
       " (937.9563283110106, 826.3385460944053),\n",
       " (-594.1101387427434, 874.6603455179647),\n",
       " (236.29490330829026, 787.3041623075014),\n",
       " (-621.8737457681912, 988.9915260937023),\n",
       " (446.14363882678913, 722.7957860512317),\n",
       " (932.0938219248053, 31.636090933620153),\n",
       " (940.298873567469, -713.0971884102308),\n",
       " (970.5305043750341, -126.55471801586214),\n",
       " (493.5671970446449, 913.3820431676106),\n",
       " (946.492526387545, 756.5131379204884),\n",
       " (393.358165078856, 802.6053265993783),\n",
       " (-293.1048899954851, 966.8536706806447),\n",
       " (-326.6692063035795, 463.71718116002626),\n",
       " (814.8100079388307, 810.1781022057576),\n",
       " (888.920748936988, -144.76522515489035),\n",
       " (408.33507011941515, 551.7386528269224),\n",
       " (655.6039220961559, -58.42639274483918),\n",
       " (855.8822433826715, 886.1892019361719),\n",
       " (468.1391777193501, 806.675758942062),\n",
       " (73.95390256287737, 811.3035733420777),\n",
       " (513.0474235259503, 754.9584915111952),\n",
       " (172.1819493877615, 446.3893742099351),\n",
       " (-624.9384710473722, 881.3582577424706),\n",
       " (863.832404809689, 450.12584919889673),\n",
       " (910.8220876265816, -884.3699787216464),\n",
       " (-399.77788346349666, 716.3531820040027),\n",
       " (488.8444164314758, 144.83713221317862),\n",
       " (203.54787737479933, -15.255414797934463),\n",
       " (653.4864929690361, 628.7883838051612),\n",
       " (869.5047336048563, 289.464205571986),\n",
       " (742.764815349713, 249.82661668591936),\n",
       " (550.1163627194533, -182.05749722369387),\n",
       " (386.810326881887, 837.9572542470653),\n",
       " (26.48479769394362, 653.451148511585),\n",
       " (692.7499167394235, 987.6417678727612),\n",
       " (743.4570172530107, 335.6927509518023),\n",
       " (259.6263175584629, -18.04024310330135),\n",
       " (613.3518907090029, 169.3826789361142),\n",
       " (-231.96656780238607, 663.0916246396323),\n",
       " (996.1447217705283, 267.6119404061078),\n",
       " (-671.1786698685037, 903.6319012497236),\n",
       " (-117.2018026614112, 843.1707598495484),\n",
       " (474.4542037587278, 394.7989055608389),\n",
       " (285.94923989574, 984.828682360137),\n",
       " (84.06477098471078, 84.27872156704689),\n",
       " (-519.375594701085, 961.5073231860554),\n",
       " (982.9451883140782, 384.48767712768813),\n",
       " (743.5328463239673, -180.86649871361521),\n",
       " (706.0400846097536, -14.447506938495962),\n",
       " (376.98343208624897, 929.3184859352602),\n",
       " (152.461869770078, 301.2946107000196),\n",
       " (38.11139266826012, 74.0782427384795),\n",
       " (439.37742425645615, 86.28571144132297),\n",
       " (10.616176792961824, 231.07781211868019),\n",
       " (-606.241679639814, 940.7701297682997),\n",
       " (168.9620695311603, -148.08690635505764),\n",
       " (416.896968746669, 488.7155137978946),\n",
       " (-328.4051884824024, 629.6380608860975),\n",
       " (162.1679883522504, 130.64280591843567),\n",
       " (-77.21116161085081, 570.0924357824072),\n",
       " (225.71976966991247, -134.96546348006962),\n",
       " (-267.7535644361642, 483.49774166614293),\n",
       " (-127.43155936226742, 866.7107877099706),\n",
       " (660.3051725989894, 196.2352737597423),\n",
       " (722.9444530256942, -718.6062334546482),\n",
       " (135.94257878054123, 206.97798985592544),\n",
       " (-28.4859460154388, 952.184476301605),\n",
       " (672.893077331895, -414.8887775934604),\n",
       " (986.7749884175628, -709.9427263249449),\n",
       " (125.15639473199121, 336.9639440239737),\n",
       " (585.3766069195119, 656.1812876722424),\n",
       " (441.21429261710637, 82.74083876848567),\n",
       " (220.36427721376594, 972.0780511435125),\n",
       " (557.0582128451324, 718.0070915357626),\n",
       " (371.1999794680696, 926.5009999192578),\n",
       " (958.9870378211954, -382.54844592138863),\n",
       " (907.375215179246, -887.7166322300523),\n",
       " (554.7654527344421, 739.6171843129205),\n",
       " (813.0543365913522, 689.5400279074311),\n",
       " (275.9456815335077, 791.1633935722166),\n",
       " (595.8910368776683, 404.9083850912507),\n",
       " (89.97589232864061, 478.8749116702311),\n",
       " (840.5319448385596, 974.5290711470288),\n",
       " (984.5405236970021, 75.83924648433026),\n",
       " (547.011543568839, 451.95958736972193),\n",
       " (-140.46913455049798, 547.0331622604549),\n",
       " (151.00517541201543, 577.7156257327713),\n",
       " (160.34385841583412, -84.78348572756272),\n",
       " (942.7325541959128, -40.533050539669716),\n",
       " (898.0436371482467, 369.42815826479955),\n",
       " (267.40580375454897, 561.4594021889777),\n",
       " (911.4918218397795, 791.0418274915139),\n",
       " (490.192115655527, -415.5462784641584),\n",
       " (167.4874040816926, 119.7782142524768),\n",
       " (69.49823755902344, 390.3206620371434),\n",
       " (910.3192431821792, -497.31813543946004),\n",
       " (925.4784314007679, 553.7634250362746),\n",
       " (795.6603662469374, -221.0396584806473),\n",
       " (706.5262278429814, 601.8771503727455),\n",
       " (-613.9912794715858, 879.6074437655432),\n",
       " (424.3546269126484, -401.0400222384949),\n",
       " (11.467629205180742, 314.0229457736282),\n",
       " (589.8574517315394, 339.31947497911506),\n",
       " (437.6276071299592, -345.58038339158156),\n",
       " (884.680947061704, 357.74397866215736),\n",
       " (-285.1797251839065, 643.8798859522781),\n",
       " (-873.9709356454697, 885.5422981862855),\n",
       " (119.10226645598482, 330.0443016126583),\n",
       " (655.6117590153654, -53.016288254845676),\n",
       " (636.2432998898305, 563.4566048675636),\n",
       " ...)"
      ]
     },
     "execution_count": 16,
     "metadata": {},
     "output_type": "execute_result"
    }
   ],
   "source": [
    "import random\n",
    "\n",
    "rnd_coords = tuple(filter(lambda x: sum(x) > 0, \n",
    "((random.uniform(-1000, 1000), random.uniform(-1000, 1000)) for i in range(10**7))))\n",
    "\n",
    "print(len(rnd_coords))\n",
    "rnd_coords"
   ]
  },
  {
   "cell_type": "markdown",
   "metadata": {},
   "source": [
    "[Note: If this takes a while, you might want to consider when the elements are generated and saved!]"
   ]
  },
  {
   "cell_type": "markdown",
   "metadata": {},
   "source": [
    "**Before having solved the tasks below, consider setting `coords` to a smaller set (eg generate $10^3$ elements instead of $10^7$ to start with).**"
   ]
  },
  {
   "cell_type": "markdown",
   "metadata": {},
   "source": [
    "c) Let `sorted_rnd` be the coordinated sorted first by the `x` component and then the `y`. Use a built-in Python sorting function. Do you need any extra parameters? Why? Why not? How would you find out where the order comes from (and might it be consistent but useless, eg sorting the elements by memory location)?"
   ]
  },
  {
   "cell_type": "code",
   "execution_count": 24,
   "metadata": {},
   "outputs": [
    {
     "name": "stdout",
     "output_type": "stream",
     "text": [
      "[(-999.689027154499, 576.011685041527), (-995.455739485159, 538.9732788488748), (-995.3047170951071, -356.411831386475), (-991.3965420809401, 61.49399118545648), (-990.8969040376519, 40.81663501090088), (-987.3013013094143, 825.8665325826673), (-986.8343620438458, -839.8216396565348), (-985.5685271025341, -347.6771027712009), (-984.9463398950604, 699.1396887371186), (-975.6003647480711, 472.9254383698733)]\n",
      "[(986.6864110704494, -132.7918822907925), (988.1011542130393, 76.2218518942741), (990.714938908071, -394.30012991236276), (991.9933462342697, 576.6174581883752), (993.7024436192717, 552.0028898972807), (994.6779104491745, 498.9602350724565), (994.8888322524338, 186.2928662244026), (995.7951474002318, -296.60708634744685), (996.7241364227286, 26.68950641644824), (996.9538691358632, 966.7556934977301)]\n"
     ]
    }
   ],
   "source": [
    "rnd_coords = tuple(((random.uniform(-1000, 1000), random.uniform(-1000, 1000)) for i in range(10**3)))\n",
    "\n",
    "sorted_rnd = sorted(rnd_coords)\n",
    "\n",
    "# We may use the extra parameter key, which is a function that determines the order of sorting. \n",
    "# However it is not necessary here as the required order is the default order given by the function sorted()\n",
    "# We can check the order using a test function\n",
    "\n",
    "print(sorted_rnd[:10])\n",
    "print(sorted_rnd[-10:])\n",
    "\n",
    "def test_sorting(seq) :\n",
    "    \"\"\"check if a tuple of 2-tuples is correctly sorted according to first and then second element\"\"\"\n",
    "    error_flag = 0\n",
    "    for i in range(len(seq) - 1) :\n",
    "        if seq[i][0] > seq[i+1][0] or (seq[i][0] == seq[i+1][0] and seq[i][1] > seq[i+1][1]) :\n",
    "            error_flag = 1\n",
    "    \n",
    "    assert error_flag == 0, \"incorrect sorting\"\n",
    "    \n",
    "test_sorting(sorted_rnd)"
   ]
  },
  {
   "cell_type": "markdown",
   "metadata": {},
   "source": [
    "[General words of advice:\n",
    "\n",
    "* During testing, you might want to use a smaller data set (and then try it out at a larger set).\n",
    "* You might not want to display the entire list to see if you're right all the time. Slicing out the first and last elements, say the first or last 10, might provide some hints.\n",
    "* You could naturally define a function which checks that the list is in order (or performs some probabilistic sampling test), to test this.]"
   ]
  },
  {
   "cell_type": "markdown",
   "metadata": {},
   "source": [
    "d) Sort the values (in the sense of returning a new sorted tuple) by their Euclidean distance to the point (5,3). Continue using a built-in Python sorting function."
   ]
  },
  {
   "cell_type": "code",
   "execution_count": 25,
   "metadata": {},
   "outputs": [
    {
     "data": {
      "text/plain": [
       "[(-5.509719704726422, -22.619139429359166),\n",
       " (-8.465035816897625, 28.603924074593806),\n",
       " (27.45483230222453, 36.66525513914735),\n",
       " (-76.83741278967693, -9.858661910985688),\n",
       " (-59.59899385374399, -49.130605565780115),\n",
       " (-35.038696998329215, -71.49386470183856),\n",
       " (91.91439701672493, -16.237465652828746),\n",
       " (89.97430214117685, 34.40788415975908),\n",
       " (-47.50251588355445, -82.77082496702246)]"
      ]
     },
     "execution_count": 25,
     "metadata": {},
     "output_type": "execute_result"
    }
   ],
   "source": [
    "import math\n",
    "pts_near_53 = sorted(rnd_coords, key = lambda x: math.sqrt((x[0] - 5)**2 + (x[1] - 3)**2))\n",
    "pts_near_53[1:10]"
   ]
  },
  {
   "cell_type": "markdown",
   "metadata": {},
   "source": [
    "Note: here we customise the behaviour of a built-in function by passing it information about our intended ordering."
   ]
  },
  {
   "cell_type": "markdown",
   "metadata": {},
   "source": [
    "e) Define the function `sorted_by_distance(origo)` which takes a coordinate `origo` and returns a function which sorts the sequence by the euclidean distance to `origo`. (Ie those closest to origo come first in the list.)"
   ]
  },
  {
   "cell_type": "code",
   "execution_count": 26,
   "metadata": {},
   "outputs": [],
   "source": [
    "def sorted_by_distance(origo):\n",
    "    def sort_sequence(seq) :\n",
    "        return sorted(seq, key = lambda x: math.sqrt((x[0] - origo[0])**2 + (x[1] - origo[1])**2))\n",
    "    return sort_sequence\n",
    "\n",
    "ordered_by_closeness_to_53 = sorted_by_distance(coord(5,3))   # Return the function.\n",
    "pts_near_53_2 = ordered_by_closeness_to_53(rnd_coords)     # Applying the function \n",
    "\n",
    "assert pts_near_53 == pts_near_53_2"
   ]
  },
  {
   "cell_type": "markdown",
   "metadata": {},
   "source": [
    "[Note: Here we extend the work above to a higher-order function, which uses the local value of `origo`. In essence, this task summarises higher order functionality - we create a closure, return a function and use a custom ordering ]"
   ]
  },
  {
   "cell_type": "markdown",
   "metadata": {},
   "source": [
    "f) So far in the course, we have seen, and possibly used `enumerate`, `range`, `zip`, `map` and `filter` as declarative constructs (along with the general comprehension syntax). Now we introduce a further useful iterator construct. Construct something called `reverse_squared` which when prompted would give us the squares of elements 0,...,N _but in reverse_ (that is $N^2, (N-1)^2, ..., 2^2, 1^2, 0^2$). You may not give `range` a negative step length in this task (we are interested in more general ways of expressing that we want to iterate in another order, which in this and many cases will prove efficient)."
   ]
  },
  {
   "cell_type": "code",
   "execution_count": 27,
   "metadata": {},
   "outputs": [
    {
     "data": {
      "text/plain": [
       "<generator object <genexpr> at 0x000001EB95554120>"
      ]
     },
     "execution_count": 27,
     "metadata": {},
     "output_type": "execute_result"
    }
   ],
   "source": [
    "# The time it takes to run this shouldn't really depend on if you use SMALL_N or BIG_N.\n",
    "\n",
    "BIG_N = 99999999\n",
    "SMALL_N = 999\n",
    "\n",
    "N = SMALL_N    # change this to test later on\n",
    "\n",
    "reverse_squares = (n * n for n in reversed(range(N+1))) # your code here\n",
    "reverse_squares"
   ]
  },
  {
   "cell_type": "code",
   "execution_count": 29,
   "metadata": {
    "scrolled": true
   },
   "outputs": [
    {
     "name": "stdout",
     "output_type": "stream",
     "text": [
      "Did we find it?  True\n",
      "         70 function calls in 0.000 seconds\n",
      "\n",
      "   Ordered by: standard name\n",
      "\n",
      "   ncalls  tottime  percall  cumtime  percall filename:lineno(function)\n",
      "        1    0.000    0.000    0.000    0.000 1474583060.py:19(<genexpr>)\n",
      "        5    0.000    0.000    0.000    0.000 :0(acquire)\n",
      "        5    0.000    0.000    0.000    0.000 :0(append)\n",
      "        1    0.000    0.000    0.000    0.000 :0(exec)\n",
      "        4    0.000    0.000    0.000    0.000 :0(getpid)\n",
      "        4    0.000    0.000    0.000    0.000 :0(isinstance)\n",
      "        4    0.000    0.000    0.000    0.000 :0(len)\n",
      "        1    0.000    0.000    0.000    0.000 :0(print)\n",
      "        1    0.000    0.000    0.000    0.000 :0(setprofile)\n",
      "        1    0.000    0.000    0.000    0.000 <string>:1(<module>)\n",
      "        5    0.000    0.000    0.000    0.000 iostream.py:206(schedule)\n",
      "        4    0.000    0.000    0.000    0.000 iostream.py:418(_is_master_process)\n",
      "        4    0.000    0.000    0.000    0.000 iostream.py:437(_schedule_flush)\n",
      "        4    0.000    0.000    0.000    0.000 iostream.py:500(write)\n",
      "        5    0.000    0.000    0.000    0.000 iostream.py:96(_event_pipe)\n",
      "        1    0.000    0.000    0.000    0.000 profile:0(print(f'Did we find it? ', N**2 in reverse_squares))\n",
      "        0    0.000             0.000          profile:0(profiler)\n",
      "        5    0.000    0.000    0.000    0.000 socket.py:480(send)\n",
      "        5    0.000    0.000    0.000    0.000 threading.py:1059(_wait_for_tstate_lock)\n",
      "        5    0.000    0.000    0.000    0.000 threading.py:1113(is_alive)\n",
      "        5    0.000    0.000    0.000    0.000 threading.py:529(is_set)\n",
      "\n",
      "\n"
     ]
    }
   ],
   "source": [
    "# Experimentation: copy and paste your code from above into this cell.\n",
    "# This is rather crude, but we want you to to be able to trust that any\n",
    "# slowness in the cell above can be found by reference to that code, not the\n",
    "# profiling code below.\n",
    "\n",
    "# Copy-pasting as it might be useful to have fresh maps.\n",
    "\n",
    "\n",
    "import profile\n",
    "\n",
    "# We cut and paste this code \n",
    "BIG_N = 99999999\n",
    "SMALL_N = 999\n",
    "\n",
    "N = BIG_N    \n",
    "# Look at the run time. Switching from BIG_N to SMALL_N shouldn't really matter.\n",
    "# This suggests that we have quick access to elements at the end of our (squared) range.\n",
    "\n",
    "reverse_squares = (n * n for n in reversed(range(N+1))) # <<----------- Your code from the cell above goes here.\n",
    "\n",
    "\n",
    "profile.run(\"print(f'Did we find it? ', N**2 in reverse_squares)\")"
   ]
  },
  {
   "cell_type": "markdown",
   "metadata": {},
   "source": [
    "Note: once you know of the construct, this task is extremely simple. It mostly serves as a demonstration of the availability of these constructs, and how they can be combined. Also, it points to efficiency considerations when using declarative iterator constructs as opposed to fixed computed structures.\n",
    "\n",
    "As the profiling code above suggests, where we redefine the object in every run, we do not have a purely functional construct. In that case, we wouldn't be able to exhaust the values."
   ]
  },
  {
   "cell_type": "markdown",
   "metadata": {},
   "source": [
    "[Additional reading: some additional tools are available in the `itertools` module.]"
   ]
  },
  {
   "cell_type": "markdown",
   "metadata": {},
   "source": [
    "## 5 Mutating function state\n",
    "\n",
    "A function always has access to the environment in which it was created. Usually, this means that the function can access global variables. It also means that it can access and modify local bindings from where it was created.\n",
    "\n",
    "A closure is a function which has access to an environment which is not accessible from outside the function (but which is not destroyed when the function returns). I.e. it is a way to introduce a small measure of statefulness into functional programming. In Python, iterators and generators work much like this. However, we can use the general concept in many cases."
   ]
  },
  {
   "cell_type": "markdown",
   "metadata": {},
   "source": [
    "a) Implement a function `make_counter` which has a single parameter `n` which acts as the initial value for a counter. The function should return a function with no parameters which, when called, increments the value of `n` by 1 and returns the new value."
   ]
  },
  {
   "cell_type": "code",
   "execution_count": 30,
   "metadata": {},
   "outputs": [
    {
     "name": "stdout",
     "output_type": "stream",
     "text": [
      "To show that the functions do not affect each others' states, consider the printout:\n",
      "counter_A returns: 1\n",
      "counter_A returns: 2\n",
      "counter_B returns: 16\n",
      "counter_A returns: 3 (was it affected by the call to counter_B?)\n"
     ]
    }
   ],
   "source": [
    "def make_counter(n):\n",
    "    def counter() :\n",
    "        nonlocal n\n",
    "        n = n+1\n",
    "        return n\n",
    "    return counter\n",
    "\n",
    "counter_A = make_counter(0)\n",
    "counter_B = make_counter(15)\n",
    "print(\"To show that the functions do not affect each others' states, consider the printout:\")\n",
    "print(f\"counter_A returns: {counter_A()}\")\n",
    "print(f\"counter_A returns: {counter_A()}\")\n",
    "print(f\"counter_B returns: {counter_B()}\")\n",
    "print(f\"counter_A returns: {counter_A()} (was it affected by the call to counter_B?)\")"
   ]
  },
  {
   "cell_type": "markdown",
   "metadata": {},
   "source": [
    "## Attribution\n",
    "\n",
    "Lab by Johan Falkenjack (2018), extended and rewritten by Anders Märak Leffler (2019).\n",
    "\n",
    "License [CC-BY-SA 4.0](https://creativecommons.org/licenses/by-sa/4.0/)"
   ]
  }
 ],
 "metadata": {
  "kernelspec": {
   "display_name": "Python 3 (ipykernel)",
   "language": "python",
   "name": "python3"
  },
  "language_info": {
   "codemirror_mode": {
    "name": "ipython",
    "version": 3
   },
   "file_extension": ".py",
   "mimetype": "text/x-python",
   "name": "python",
   "nbconvert_exporter": "python",
   "pygments_lexer": "ipython3",
   "version": "3.9.6"
  }
 },
 "nbformat": 4,
 "nbformat_minor": 2
}
