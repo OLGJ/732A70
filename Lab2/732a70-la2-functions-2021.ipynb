{
 "cells": [
  {
   "cell_type": "markdown",
   "metadata": {},
   "source": [
    "# Laboration 2"
   ]
  },
  {
   "cell_type": "markdown",
   "metadata": {},
   "source": [
    "---\n",
    "**Student:** olojo524\n",
    "\n",
    "**Student:** ghijk456\n",
    "\n",
    "---"
   ]
  },
  {
   "cell_type": "markdown",
   "metadata": {},
   "source": [
    "# Introduction \n",
    "In this first part of the lab, we will be exploring \n",
    "* Functions\n",
    "    * How functions are called.\n",
    "    * Argument passing\n",
    "    * Return values.\n",
    "* Function usage\n",
    "    * Construction of simple multi-function programs.\n",
    "    * Functions that work on several kinds of inputs (ie simple polymorphism via duck typing).\n",
    "\n",
    "Additionally we will touch upon\n",
    "* Exceptions and \n",
    "* simple assertion testing and debugging."
   ]
  },
  {
   "cell_type": "markdown",
   "metadata": {},
   "source": [
    "This lab might require you to search for information on your own to a larger extent than in lab 1. As in the last lab, Lutz' Learning Python and the [official documentation](https://docs.python.org) might be helpful. Also make sure to make use of the available lab assistance!"
   ]
  },
  {
   "cell_type": "markdown",
   "metadata": {},
   "source": [
    "# A note on rules"
   ]
  },
  {
   "cell_type": "markdown",
   "metadata": {},
   "source": [
    "Please make sure to conform to the (previously mentioned) [IDA lab rules](https://www.ida.liu.se/~732A74/labs/index.en.shtml)."
   ]
  },
  {
   "cell_type": "markdown",
   "metadata": {},
   "source": [
    "## Functions in Python"
   ]
  },
  {
   "cell_type": "markdown",
   "metadata": {},
   "source": [
    "a) Write a function that takes a radius and returns area of a circle with that radius. What would be a good name for the function and the argument? Python has a value for $\\pi$ in a certain standard library module. Which might that be? Don't type in the constant yourself."
   ]
  },
  {
   "cell_type": "code",
   "execution_count": 15,
   "metadata": {},
   "outputs": [
    {
     "data": {
      "text/plain": [
       "78.53981633974483"
      ]
     },
     "execution_count": 15,
     "metadata": {},
     "output_type": "execute_result"
    }
   ],
   "source": [
    "import math\n",
    "def circle_area(radius):\n",
    "    area = math.pi*(radius**2)\n",
    "    return(area)\n",
    "\n",
    "circle_area(5)"
   ]
  },
  {
   "cell_type": "markdown",
   "metadata": {},
   "source": [
    "[Hint: Google. Or consider modules we have `import`ed previously.]"
   ]
  },
  {
   "cell_type": "markdown",
   "metadata": {},
   "source": [
    "b) How would you call the function, if you wanted to calculate the area of a circle with radius 10cm?"
   ]
  },
  {
   "cell_type": "code",
   "execution_count": 16,
   "metadata": {},
   "outputs": [
    {
     "data": {
      "text/plain": [
       "314.1592653589793"
      ]
     },
     "execution_count": 16,
     "metadata": {},
     "output_type": "execute_result"
    }
   ],
   "source": [
    "circle_area(10)"
   ]
  },
  {
   "cell_type": "markdown",
   "metadata": {},
   "source": [
    "c) How would you call the function using named arguments/keyword arguments?"
   ]
  },
  {
   "cell_type": "code",
   "execution_count": 17,
   "metadata": {},
   "outputs": [
    {
     "data": {
      "text/plain": [
       "314.1592653589793"
      ]
     },
     "execution_count": 17,
     "metadata": {},
     "output_type": "execute_result"
    }
   ],
   "source": [
    "circle_area(radius = 10)"
   ]
  },
  {
   "cell_type": "markdown",
   "metadata": {},
   "source": [
    "[Note: In this case, the calling of the function is somewhat artificial. When writing scripts or working with programs that take several parameters, this style can be quite useful. This sidesteps questions of if this particular library takes the input or the output as the first argument, or the like. The code of course becomes more verbose.]"
   ]
  },
  {
   "cell_type": "markdown",
   "metadata": {},
   "source": [
    "d) Write a function `circle_area_safe(radius)` which uses an if statement to check that the radius is positive and prints `The radius must be positive` to the screen if it is not, and otherwise calls the `circle_area` function. Also, if the radius is not positive the `circle_area_safe` function should signal to the code calling it that it has failed by returning `None`."
   ]
  },
  {
   "cell_type": "code",
   "execution_count": 18,
   "metadata": {},
   "outputs": [
    {
     "name": "stdout",
     "output_type": "stream",
     "text": [
      "The radius must be positive\n"
     ]
    }
   ],
   "source": [
    "def circle_area_safe(radius):    \n",
    "    # Checks if statement\n",
    "    if radius < 0:\n",
    "        print(\"The radius must be positive\")\n",
    "        return(None)\n",
    "    # Otherwise return circle_area call\n",
    "    return(circle_area(radius))\n",
    "\n",
    "circle_area_safe(-2)"
   ]
  },
  {
   "cell_type": "markdown",
   "metadata": {},
   "source": [
    "e) Recreate the `circle_area_safe` function (call this version `circle_area_safer`) but instead of printing a message to the screen and returning `None` if the radius is negative, _raise_ a ValueError exception with suitable error message as argument."
   ]
  },
  {
   "cell_type": "code",
   "execution_count": 19,
   "metadata": {},
   "outputs": [
    {
     "ename": "ValueError",
     "evalue": "Can't have a negative radius mate",
     "output_type": "error",
     "traceback": [
      "\u001b[1;31m---------------------------------------------------------------------------\u001b[0m",
      "\u001b[1;31mValueError\u001b[0m                                Traceback (most recent call last)",
      "\u001b[1;32mc:\\Users\\Olof\\Documents\\Python\\732A70\\Lab2\\732a70-la2-functions-2021.ipynb Cell 19'\u001b[0m in \u001b[0;36m<module>\u001b[1;34m\u001b[0m\n\u001b[0;32m      <a href='vscode-notebook-cell:/c%3A/Users/Olof/Documents/Python/732A70/Lab2/732a70-la2-functions-2021.ipynb#ch0000018?line=2'>3</a>\u001b[0m         \u001b[39mraise\u001b[39;00m \u001b[39mValueError\u001b[39;00m(\u001b[39m\"\u001b[39m\u001b[39mCan\u001b[39m\u001b[39m'\u001b[39m\u001b[39mt have a negative radius mate\u001b[39m\u001b[39m\"\u001b[39m)\n\u001b[0;32m      <a href='vscode-notebook-cell:/c%3A/Users/Olof/Documents/Python/732A70/Lab2/732a70-la2-functions-2021.ipynb#ch0000018?line=3'>4</a>\u001b[0m     \u001b[39mreturn\u001b[39;00m(circle_area(radius))\n\u001b[1;32m----> <a href='vscode-notebook-cell:/c%3A/Users/Olof/Documents/Python/732A70/Lab2/732a70-la2-functions-2021.ipynb#ch0000018?line=5'>6</a>\u001b[0m circle_area_safer(\u001b[39m-\u001b[39;49m\u001b[39m1\u001b[39;49m)\n",
      "\u001b[1;32mc:\\Users\\Olof\\Documents\\Python\\732A70\\Lab2\\732a70-la2-functions-2021.ipynb Cell 19'\u001b[0m in \u001b[0;36mcircle_area_safer\u001b[1;34m(radius)\u001b[0m\n\u001b[0;32m      <a href='vscode-notebook-cell:/c%3A/Users/Olof/Documents/Python/732A70/Lab2/732a70-la2-functions-2021.ipynb#ch0000018?line=0'>1</a>\u001b[0m \u001b[39mdef\u001b[39;00m \u001b[39mcircle_area_safer\u001b[39m(radius):\n\u001b[0;32m      <a href='vscode-notebook-cell:/c%3A/Users/Olof/Documents/Python/732A70/Lab2/732a70-la2-functions-2021.ipynb#ch0000018?line=1'>2</a>\u001b[0m     \u001b[39mif\u001b[39;00m radius \u001b[39m<\u001b[39m \u001b[39m0\u001b[39m:\n\u001b[1;32m----> <a href='vscode-notebook-cell:/c%3A/Users/Olof/Documents/Python/732A70/Lab2/732a70-la2-functions-2021.ipynb#ch0000018?line=2'>3</a>\u001b[0m         \u001b[39mraise\u001b[39;00m \u001b[39mValueError\u001b[39;00m(\u001b[39m\"\u001b[39m\u001b[39mCan\u001b[39m\u001b[39m'\u001b[39m\u001b[39mt have a negative radius mate\u001b[39m\u001b[39m\"\u001b[39m)\n\u001b[0;32m      <a href='vscode-notebook-cell:/c%3A/Users/Olof/Documents/Python/732A70/Lab2/732a70-la2-functions-2021.ipynb#ch0000018?line=3'>4</a>\u001b[0m     \u001b[39mreturn\u001b[39;00m(circle_area(radius))\n",
      "\u001b[1;31mValueError\u001b[0m: Can't have a negative radius mate"
     ]
    }
   ],
   "source": [
    "def circle_area_safer(radius):\n",
    "    if radius < 0:\n",
    "        raise ValueError(\"Can't have a negative radius mate\")\n",
    "    return(circle_area(radius))\n",
    "\n",
    "circle_area_safer(-1)"
   ]
  },
  {
   "cell_type": "markdown",
   "metadata": {},
   "source": [
    "f) To test out how functions are called in Python, create a function `print_num_args` that prints the number of arguments it has been called with. The count should not include keyword arguments."
   ]
  },
  {
   "cell_type": "code",
   "execution_count": null,
   "metadata": {
    "scrolled": true
   },
   "outputs": [
    {
     "data": {
      "text/plain": [
       "4"
      ]
     },
     "execution_count": 9,
     "metadata": {},
     "output_type": "execute_result"
    }
   ],
   "source": [
    "# Your definition goes here.\n",
    "def print_num_args(*args, **kwargs):\n",
    "    return(len(args))\n",
    "\n",
    "print_num_args(\"a\", \"b\", \"c\")  # Should print the number 3.\n",
    "print_num_args(\"a\", \"b\", \"c\", \"d\")  # Should print the number 4."
   ]
  },
  {
   "cell_type": "markdown",
   "metadata": {},
   "source": [
    "g) Write a function `print_kwargs` that prints all the keyword arguments."
   ]
  },
  {
   "cell_type": "code",
   "execution_count": null,
   "metadata": {
    "scrolled": true
   },
   "outputs": [
    {
     "name": "stdout",
     "output_type": "stream",
     "text": [
      "The 2 regular arguments are:\n",
      "0: alonzo\n",
      "1: zeno\n",
      "\n",
      "And the keyword arguents are:\n",
      "foo is set to 2\n",
      "bar is set to 99\n"
     ]
    },
    {
     "data": {
      "text/plain": [
       "'Should print:\\n\\nThe 2 regular arguments are:\\n0: alonzo\\n1: zeno\\n\\nAnd the keyword arguments are (the ordering here is arbitrary):\\nfoo is set to 2\\nbar is set to 99\\n'"
      ]
     },
     "execution_count": 11,
     "metadata": {},
     "output_type": "execute_result"
    }
   ],
   "source": [
    "# Your definition goes here\n",
    "def print_kwargs(*args, **kwargs):\n",
    "    print(f\"The {len(args)} regular arguments are:\")\n",
    "    \n",
    "    # Struggled with not incorporating a loop\n",
    "    for i in args:\n",
    "        print(f\"{args.index(i)}: {i}\") \n",
    "    \n",
    "    print(\"\\nAnd the keyword arguents are:\")\n",
    "    print(\"\\n\".join([\"{} is set to {!r}\".format(k, v) for k, v in kwargs.items()]))\n",
    "    \n",
    "print_kwargs(\"alonzo\", \"zeno\", foo=1+1,bar = 99)\n",
    "\"\"\"Should print:\n",
    "\n",
    "The 2 regular arguments are:\n",
    "0: alonzo\n",
    "1: zeno\n",
    "\n",
    "And the keyword arguments are (the ordering here is arbitrary):\n",
    "foo is set to 2\n",
    "bar is set to 99\n",
    "\"\"\"\n"
   ]
  },
  {
   "cell_type": "markdown",
   "metadata": {},
   "source": [
    "h) Below we have a very simple program. Run the first cell. It will succeed. What happens when you run the second cell, and why? In particular, consider the error produced. What does it mean. What value has been returned from the function, and how would you modify the function in order for it to work?"
   ]
  },
  {
   "cell_type": "code",
   "execution_count": null,
   "metadata": {},
   "outputs": [
    {
     "name": "stdout",
     "output_type": "stream",
     "text": [
      "13225\n"
     ]
    }
   ],
   "source": [
    "def my_polynomial(x):\n",
    "    \"\"\"Return the number x^2 + 30x + 225.\"\"\"\n",
    "    print(x**2 + 30*x + 225)\n",
    "\n",
    "polyval = my_polynomial(100)"
   ]
  },
  {
   "cell_type": "code",
   "execution_count": null,
   "metadata": {},
   "outputs": [
    {
     "name": "stdout",
     "output_type": "stream",
     "text": [
      "13225\n"
     ]
    },
    {
     "ename": "TypeError",
     "evalue": "unsupported operand type(s) for *: 'int' and 'NoneType'",
     "output_type": "error",
     "traceback": [
      "\u001b[1;31m---------------------------------------------------------------------------\u001b[0m",
      "\u001b[1;31mTypeError\u001b[0m                                 Traceback (most recent call last)",
      "\u001b[1;32mc:\\Users\\Olof\\Documents\\Python\\732A70\\Lab2\\732a70-la2-functions-2021.ipynb Cell 26'\u001b[0m in \u001b[0;36m<module>\u001b[1;34m\u001b[0m\n\u001b[1;32m----> <a href='vscode-notebook-cell:/c%3A/Users/Olof/Documents/Python/732A70/Lab2/732a70-la2-functions-2021.ipynb#ch0000025?line=0'>1</a>\u001b[0m double_the_polyval \u001b[39m=\u001b[39m \u001b[39m2\u001b[39;49m\u001b[39m*\u001b[39;49mmy_polynomial(\u001b[39m100\u001b[39;49m)\n",
      "\u001b[1;31mTypeError\u001b[0m: unsupported operand type(s) for *: 'int' and 'NoneType'"
     ]
    }
   ],
   "source": [
    "double_the_polyval = 2*my_polynomial(100)"
   ]
  },
  {
   "cell_type": "code",
   "execution_count": 20,
   "metadata": {},
   "outputs": [
    {
     "name": "stdout",
     "output_type": "stream",
     "text": [
      "13225\n",
      "Value returned: None\n",
      "13225\n",
      "Return type: <class 'NoneType'>\n"
     ]
    },
    {
     "data": {
      "text/plain": [
       "26450"
      ]
     },
     "execution_count": 20,
     "metadata": {},
     "output_type": "execute_result"
    }
   ],
   "source": [
    "# Running the second cell gives the error: unsupported operand type(s) for *: 'int' and 'NoneType'\n",
    "# This error arises becuase the function my_polynomial does not return any value, it just prints the output, so when we multiply\n",
    "# the output of the function with 2, the output is NoneType which cannot be multiplied with an integer, resulting in TypeError.\n",
    "# We can verify this by checking the retun value and return type of the function:\n",
    "\n",
    "print(f\"Value returned: {my_polynomial(100)}\")\n",
    "print(f\"Return type: {type(my_polynomial(100))}\")\n",
    "\n",
    "# We can modify the function to include the return statement, so that it actually returns the calculated output rather than\n",
    "# printing it.\n",
    "\n",
    "def my_polynomial(x):\n",
    "    \"\"\"Return the number x^2 + 30x + 225.\"\"\"\n",
    "    return x**2 + 30*x + 225\n",
    "\n",
    "2*my_polynomial(100)"
   ]
  },
  {
   "cell_type": "markdown",
   "metadata": {},
   "source": [
    "## Script/program construction (a tiny example)"
   ]
  },
  {
   "cell_type": "markdown",
   "metadata": {},
   "source": [
    "Regardless of which programming language we use, we will likely construct programs or scripts that consist of several functions that work in concert. Below we will create a very simple Monte Carlo simulation as a basis for breaking down a larger (though small) problem into sensible, (re)usable discrete pieces. The resulting program will likely utilise control structures that you have read about before."
   ]
  },
  {
   "cell_type": "markdown",
   "metadata": {},
   "source": [
    "**Hint: read all of the subtasks related to this task before coding.**"
   ]
  },
  {
   "cell_type": "markdown",
   "metadata": {},
   "source": [
    "a) The following is a well-known procedure for approximating $\\pi$: pick $n$ uniformly randomly selected coordinates in an $2R\\times 2R$ square. Count the number of the points that fall within the circle of radius $R$ with its center at $(R,R)$. The fraction of these points to the total number of points is used to approximate $\\pi$ (exactly how is for you to figure out). (Note that this is not to be confused with MCMC.)\n",
    "\n",
    "Write a program consisting of **several (aptly selected and named) functions**, that present the user with the following simple text user interface. The <span style=\"background: yellow;\">yellow</span> text is an example of user input (the user is prompted, and enters the value). It then prints the results of the simulations:"
   ]
  },
  {
   "cell_type": "markdown",
   "metadata": {},
   "source": [
    "`pi_simulation()`\n",
    "\n",
    "<p style=\"font-family: console, monospace\">Welcome to the Monty Carlo PI program!</p>\n",
    "\n",
    "<p style=\"font-family: console, monospace\">\n",
    "Please enter a number of points (or the letter \"q\" to quit): <span style=\"background: yellow;\">100</span><br/>\n",
    "Using 100 points we (this time) got the following value for pi: 3.08<br/>\n",
    "This would mean that tau (2xPI) would be: 6.16\n",
    "</p>\n",
    "\n",
    "<p style=\"font-family: console, monospace\">\n",
    "Please enter a number of points (or the letter \"q\" to quit): <span style=\"background: yellow;\">100</span><br/>\n",
    "Using 100 points we (this time) got the following value for pi: 3.12<br/>\n",
    "This would mean that tau (2xPI) would be: 6.24\n",
    "</p>\n",
    "\n",
    "<p style=\"font-family: console, monospace\">\n",
    "Please enter a number of points (or the letter \"q\" to quit): <span style=\"background: yellow;\">q</span>\n",
    "</p>\n",
    "\n",
    "<p style=\"font-family: console, monospace\">\n",
    "Thank you for choosing Monty Carlo.\n",
    "</p>"
   ]
  },
  {
   "cell_type": "markdown",
   "metadata": {},
   "source": [
    "[**Note**: This is a task largely about program structure. Unless there are substantial performance drawbacks, prefer readability over optimisation.]"
   ]
  },
  {
   "cell_type": "markdown",
   "metadata": {},
   "source": [
    "---\n",
    "**REMEMBER: YOU DO NOT WRITE CODE FOR THE INTERPRETER. YOU WRITE IT FOR OTHER HUMAN READERS.**\n",
    "\n",
    "---\n",
    "\n",
    "An important part of programming is to allow a reader who is perhaps unfamiliar with the code to be able to understand it, and convince themselves that it is correct with respect to specification. There should also be as few surprises as possible."
   ]
  },
  {
   "cell_type": "code",
   "execution_count": 24,
   "metadata": {},
   "outputs": [
    {
     "name": "stdout",
     "output_type": "stream",
     "text": [
      "Welcome to the Monty Carlo PI program!\n",
      "Using 10 points we (this time) got the following value for pi: 3.6\n",
      "This would mean that tau (2xPI) would be: 7.2\n",
      "Using 5 points we (this time) got the following value for pi: 4.0\n",
      "This would mean that tau (2xPI) would be: 8.0\n"
     ]
    },
    {
     "ename": "ValueError",
     "evalue": "input must be a positive integer",
     "output_type": "error",
     "traceback": [
      "\u001b[1;31m---------------------------------------------------------------------------\u001b[0m",
      "\u001b[1;31mValueError\u001b[0m                                Traceback (most recent call last)",
      "\u001b[1;32mc:\\Users\\Olof\\Documents\\Python\\732A70\\Lab2\\732a70-la2-functions-2021.ipynb Cell 35'\u001b[0m in \u001b[0;36m<module>\u001b[1;34m\u001b[0m\n\u001b[0;32m     <a href='vscode-notebook-cell:/c%3A/Users/Olof/Documents/Python/732A70/Lab2/732a70-la2-functions-2021.ipynb#ch0000034?line=36'>37</a>\u001b[0m         \u001b[39mprint\u001b[39m(\u001b[39mf\u001b[39m\u001b[39m\"\u001b[39m\u001b[39mThis would mean that tau (2xPI) would be: \u001b[39m\u001b[39m{\u001b[39;00m\u001b[39m2\u001b[39m\u001b[39m*\u001b[39mpi\u001b[39m}\u001b[39;00m\u001b[39m\"\u001b[39m)\n\u001b[0;32m     <a href='vscode-notebook-cell:/c%3A/Users/Olof/Documents/Python/732A70/Lab2/732a70-la2-functions-2021.ipynb#ch0000034?line=38'>39</a>\u001b[0m     \u001b[39mprint\u001b[39m(\u001b[39m\"\u001b[39m\u001b[39mThank you for choosing Monty Carlo.\u001b[39m\u001b[39m\"\u001b[39m)\n\u001b[1;32m---> <a href='vscode-notebook-cell:/c%3A/Users/Olof/Documents/Python/732A70/Lab2/732a70-la2-functions-2021.ipynb#ch0000034?line=40'>41</a>\u001b[0m pi_simulation()\n",
      "\u001b[1;32mc:\\Users\\Olof\\Documents\\Python\\732A70\\Lab2\\732a70-la2-functions-2021.ipynb Cell 35'\u001b[0m in \u001b[0;36mpi_simulation\u001b[1;34m()\u001b[0m\n\u001b[0;32m     <a href='vscode-notebook-cell:/c%3A/Users/Olof/Documents/Python/732A70/Lab2/732a70-la2-functions-2021.ipynb#ch0000034?line=30'>31</a>\u001b[0m     \u001b[39mprint\u001b[39m(\u001b[39m\"\u001b[39m\u001b[39minput must be an integer or q\u001b[39m\u001b[39m\"\u001b[39m)\n\u001b[0;32m     <a href='vscode-notebook-cell:/c%3A/Users/Olof/Documents/Python/732A70/Lab2/732a70-la2-functions-2021.ipynb#ch0000034?line=31'>32</a>\u001b[0m \u001b[39mif\u001b[39;00m num_points \u001b[39m<\u001b[39m \u001b[39m0\u001b[39m :\n\u001b[1;32m---> <a href='vscode-notebook-cell:/c%3A/Users/Olof/Documents/Python/732A70/Lab2/732a70-la2-functions-2021.ipynb#ch0000034?line=32'>33</a>\u001b[0m     \u001b[39mraise\u001b[39;00m \u001b[39mValueError\u001b[39;00m(\u001b[39m\"\u001b[39m\u001b[39minput must be a positive integer\u001b[39m\u001b[39m\"\u001b[39m)\n\u001b[0;32m     <a href='vscode-notebook-cell:/c%3A/Users/Olof/Documents/Python/732A70/Lab2/732a70-la2-functions-2021.ipynb#ch0000034?line=34'>35</a>\u001b[0m pi \u001b[39m=\u001b[39m approx_pi(num_points)\n\u001b[0;32m     <a href='vscode-notebook-cell:/c%3A/Users/Olof/Documents/Python/732A70/Lab2/732a70-la2-functions-2021.ipynb#ch0000034?line=35'>36</a>\u001b[0m \u001b[39mprint\u001b[39m(\u001b[39mf\u001b[39m\u001b[39m\"\u001b[39m\u001b[39mUsing \u001b[39m\u001b[39m{\u001b[39;00mnum_points\u001b[39m}\u001b[39;00m\u001b[39m points we (this time) got the following value for pi: \u001b[39m\u001b[39m{\u001b[39;00mpi\u001b[39m}\u001b[39;00m\u001b[39m\"\u001b[39m)\n",
      "\u001b[1;31mValueError\u001b[0m: input must be a positive integer"
     ]
    }
   ],
   "source": [
    "import random\n",
    "\n",
    "def in_circle(point, radius) :\n",
    "    \"\"\"determine if a point lies in the circle with given radius and centre at (radius, radius)\"\"\"\n",
    "    return (point[0] - radius)**2 + (point[1] - radius)**2 <= radius**2\n",
    "    \n",
    "def approx_pi(num_points) :\n",
    "    \"\"\"approximate pi by randomly selecting given number of points within a square and determining the fraction of points\n",
    "    falling within a circle circumscribed in the square\"\"\"\n",
    "    \n",
    "    radius = 1 # another radius can be selected\n",
    "    points = ((random.uniform(0, 2*radius), random.uniform(0, 2*radius)) for i in range(num_points))\n",
    "    \n",
    "    points_in_circle = 0\n",
    "    \n",
    "    for point in points :\n",
    "        if in_circle(point, radius) :\n",
    "            points_in_circle += 1\n",
    "    \n",
    "    return(4 * points_in_circle / num_points)\n",
    "\n",
    "    \n",
    "def pi_simulation() :\n",
    "    \"\"\"approximate pi by taking the ratio of area of a circle enclosed in a square to the area of the square\"\"\"\n",
    "    print(\"Welcome to the Monty Carlo PI program!\")\n",
    "    \n",
    "    while (num_points := input('\\nPlease enter a number of points (or the letter \"q\" to quit): ')) != \"q\" :\n",
    "        try :\n",
    "            num_points = int(num_points)\n",
    "        except ValueError:\n",
    "            print(\"input must be an integer or q\")\n",
    "        if num_points < 0 :\n",
    "            raise ValueError(\"input must be a positive integer\")\n",
    "            \n",
    "        pi = approx_pi(num_points)\n",
    "        print(f\"Using {num_points} points we (this time) got the following value for pi: {pi}\")\n",
    "        print(f\"This would mean that tau (2xPI) would be: {2*pi}\")\n",
    "    \n",
    "    print(\"Thank you for choosing Monty Carlo.\")\n",
    "    \n",
    "pi_simulation()\n"
   ]
  },
  {
   "cell_type": "markdown",
   "metadata": {},
   "source": [
    "[Hint: You might want to consider the function `input`. Try it out and see what type of value it returns.]"
   ]
  },
  {
   "cell_type": "markdown",
   "metadata": {},
   "source": [
    "b) One feature of Python's simplicity is the possibility to (comparatively) quickly produce code to try out our intuitions. Let's say we want to compare how well our approximation performs, as compared to some gold standard for pi (here: the version in the standard library). Run 100 simulations. How large is the maximum relative error (using the definition above) in this particular run of simulations, if each simulation has $n=10^4$ points? Is it larger or smaller than 5%? Write code that returns this maximum relative error."
   ]
  },
  {
   "cell_type": "code",
   "execution_count": 26,
   "metadata": {
    "scrolled": true
   },
   "outputs": [
    {
     "name": "stdout",
     "output_type": "stream",
     "text": [
      "False\n"
     ]
    },
    {
     "data": {
      "text/plain": [
       "1.5153889017345268"
      ]
     },
     "execution_count": 26,
     "metadata": {},
     "output_type": "execute_result"
    }
   ],
   "source": [
    "import math\n",
    "# modifying the simulation function to remove user interface and running 100 times with 10000 points\n",
    "\n",
    "def pi_simulation_updated() :\n",
    "    \"\"\"approximate pi by taking the ratio of area of a circle enclosed in a square to the area of the square\"\"\"\n",
    "    num_points = 10000\n",
    "    pi = [approx_pi(num_points) for i in range(100)] # approximating pi 100 times \n",
    "    return pi\n",
    "\n",
    "pi = pi_simulation_updated()\n",
    "relative_errors = [(p / math.pi - 1) * 100 for p in pi]\n",
    "max_relative_error = max(relative_errors)\n",
    "\n",
    "print(max_relative_error > 5) # check if maximum relative error is larger than 5%\n",
    "max_relative_error"
   ]
  },
  {
   "cell_type": "markdown",
   "metadata": {},
   "source": [
    "[Note: This is only to show a quick way of testing out your code in a readable fashion. You might want to try to write it in a pythonic way. But in terms of performance, it is very likely that the true bottleneck will still be the approximation function itself.]"
   ]
  },
  {
   "cell_type": "markdown",
   "metadata": {},
   "source": [
    "## Fault/bugspotting and tests in a very simple setting"
   ]
  },
  {
   "cell_type": "markdown",
   "metadata": {},
   "source": [
    "It is inevitable that we will make mistakes when programming. An important skill is not only to be able to write code in the first place, but also to be able to figure where one would start looking for faults. This also involves being able to make the expectations we have on the program more explicit, and at the very least construct some sets of automatic \"sanity checks\" for the program. The latter will likely not be something done for every piece of code you write, but it is highly useful for code that might be reused or is hard to understand (due either to programming reasons, or because the underlying mathemetics is dense). When rewriting or optimising code, having such tests are also highly useful to provide hints that the changes haven't broken the code."
   ]
  },
  {
   "cell_type": "markdown",
   "metadata": {},
   "source": [
    "**Task**: The following program is supposed to return the sum of the squares of numbers $0,...,n$."
   ]
  },
  {
   "cell_type": "code",
   "execution_count": 29,
   "metadata": {},
   "outputs": [],
   "source": [
    "# Do not modify this code! You'll fix it later.\n",
    "\n",
    "def update_result(result, i):\n",
    "    result = result + i*i\n",
    "    return result\n",
    "\n",
    "def sum_squares(n):\n",
    "    \"\"\"Return the sum of squares 0^2 + 1^2 + ... + (n-1)^2 + n^2.\"\"\"\n",
    "    result = 0\n",
    "    for i in range(n):\n",
    "        result = update_result(n, result)"
   ]
  },
  {
   "cell_type": "markdown",
   "metadata": {},
   "source": [
    "a) What mistakes have the programmer made when trying to solve the problem? Name the mistakes in coding or thinking about the issue that you notice (regardless of if they affect the end result). In particular, write down what is wrong (not just \"line X should read ...\"; fixing the code comes later). Feel free to make a copy of the code (pressing `b` in a notebook creates a new cell below) and try it out, add relevant print statements, assertions or anything else that might help. Note down how you spotted the faults."
   ]
  },
  {
   "cell_type": "code",
   "execution_count": 27,
   "metadata": {},
   "outputs": [
    {
     "data": {
      "text/plain": [
       "\"\\n Write your answers here.\\n\\nsum_squares:\\n    If we use range(n) we won't calculate the sum of squared n only 0, ..., n-1. So swap to n+1.\\n    It should pass the iteration i that it's currently on, swap n -> i.\\n    Order of the arguments passed are wrong.\\n    Does not return anything, needs to return result.\\n    \\n\""
      ]
     },
     "execution_count": 27,
     "metadata": {},
     "output_type": "execute_result"
    }
   ],
   "source": [
    "\"\"\"\n",
    " Write your answers here.\n",
    "\n",
    "sum_squares:\n",
    "    If we use range(n) we won't calculate the sum of squared n only 0, ..., n-1. So swap to n+1.\n",
    "    It should pass the iteration i that it's currently on, swap n -> i.\n",
    "    Order of the arguments passed are wrong.\n",
    "    Does not return anything, needs to return result.\n",
    "    \n",
    "\"\"\""
   ]
  },
  {
   "cell_type": "markdown",
   "metadata": {},
   "source": [
    "b) Write a few simple assertions that should pass if the code was correct. Don't forget to include the *why* of the test, preferably in the error message provided in the `AssertionError` if the test fails."
   ]
  },
  {
   "cell_type": "code",
   "execution_count": 30,
   "metadata": {
    "scrolled": false
   },
   "outputs": [
    {
     "ename": "AssertionError",
     "evalue": "after 0 iterations, 0 should be returned (sum_squares(0))",
     "output_type": "error",
     "traceback": [
      "\u001b[1;31m---------------------------------------------------------------------------\u001b[0m",
      "\u001b[1;31mAssertionError\u001b[0m                            Traceback (most recent call last)",
      "\u001b[1;32mc:\\Users\\Olof\\Documents\\Python\\732A70\\Lab2\\732a70-la2-functions-2021.ipynb Cell 47'\u001b[0m in \u001b[0;36m<module>\u001b[1;34m\u001b[0m\n\u001b[0;32m      <a href='vscode-notebook-cell:/c%3A/Users/Olof/Documents/Python/732A70/Lab2/732a70-la2-functions-2021.ipynb#ch0000047?line=5'>6</a>\u001b[0m     \u001b[39massert\u001b[39;00m sum_squares(\u001b[39m2\u001b[39m) \u001b[39m==\u001b[39m \u001b[39m5\u001b[39m, \u001b[39m\"\u001b[39m\u001b[39msum of squares upto 2 must be 5\u001b[39m\u001b[39m\"\u001b[39m\n\u001b[0;32m      <a href='vscode-notebook-cell:/c%3A/Users/Olof/Documents/Python/732A70/Lab2/732a70-la2-functions-2021.ipynb#ch0000047?line=6'>7</a>\u001b[0m     \u001b[39mprint\u001b[39m(\u001b[39m\"\u001b[39m\u001b[39m--- test_sum_squares finished successfully\u001b[39m\u001b[39m\"\u001b[39m)\n\u001b[1;32m----> <a href='vscode-notebook-cell:/c%3A/Users/Olof/Documents/Python/732A70/Lab2/732a70-la2-functions-2021.ipynb#ch0000047?line=8'>9</a>\u001b[0m test_sum_squares()\n",
      "\u001b[1;32mc:\\Users\\Olof\\Documents\\Python\\732A70\\Lab2\\732a70-la2-functions-2021.ipynb Cell 47'\u001b[0m in \u001b[0;36mtest_sum_squares\u001b[1;34m()\u001b[0m\n\u001b[0;32m      <a href='vscode-notebook-cell:/c%3A/Users/Olof/Documents/Python/732A70/Lab2/732a70-la2-functions-2021.ipynb#ch0000047?line=0'>1</a>\u001b[0m \u001b[39mdef\u001b[39;00m \u001b[39mtest_sum_squares\u001b[39m():\n\u001b[0;32m      <a href='vscode-notebook-cell:/c%3A/Users/Olof/Documents/Python/732A70/Lab2/732a70-la2-functions-2021.ipynb#ch0000047?line=1'>2</a>\u001b[0m     \u001b[39m# Format: assert [condition], message\u001b[39;00m\n\u001b[1;32m----> <a href='vscode-notebook-cell:/c%3A/Users/Olof/Documents/Python/732A70/Lab2/732a70-la2-functions-2021.ipynb#ch0000047?line=2'>3</a>\u001b[0m     \u001b[39massert\u001b[39;00m sum_squares(\u001b[39m0\u001b[39m) \u001b[39m==\u001b[39m \u001b[39m0\u001b[39m, \u001b[39m\"\u001b[39m\u001b[39mafter 0 iterations, 0 should be returned (sum_squares(0))\u001b[39m\u001b[39m\"\u001b[39m\n\u001b[0;32m      <a href='vscode-notebook-cell:/c%3A/Users/Olof/Documents/Python/732A70/Lab2/732a70-la2-functions-2021.ipynb#ch0000047?line=3'>4</a>\u001b[0m     \u001b[39m# Add a few more (good and justified) tests.\u001b[39;00m\n\u001b[0;32m      <a href='vscode-notebook-cell:/c%3A/Users/Olof/Documents/Python/732A70/Lab2/732a70-la2-functions-2021.ipynb#ch0000047?line=4'>5</a>\u001b[0m     \u001b[39massert\u001b[39;00m sum_squares(\u001b[39m5\u001b[39m) \u001b[39m>\u001b[39m \u001b[39m0\u001b[39m, \u001b[39m\"\u001b[39m\u001b[39mAfter 5 iterations, it should return > 0 if it adds correctly\u001b[39m\u001b[39m\"\u001b[39m\n",
      "\u001b[1;31mAssertionError\u001b[0m: after 0 iterations, 0 should be returned (sum_squares(0))"
     ]
    }
   ],
   "source": [
    "def test_sum_squares():\n",
    "    # Format: assert [condition], message\n",
    "    assert sum_squares(0) == 0, \"after 0 iterations, 0 should be returned (sum_squares(0))\"\n",
    "    # Add a few more (good and justified) tests.\n",
    "    assert sum_squares(5) > 0, \"After 5 iterations, it should return > 0 if it adds correctly\"\n",
    "    assert sum_squares(2) == 5, \"sum of squares upto 2 must be 5\"\n",
    "    print(\"--- test_sum_squares finished successfully\")\n",
    "        \n",
    "test_sum_squares()"
   ]
  },
  {
   "cell_type": "markdown",
   "metadata": {},
   "source": [
    "Hint: might there be any corner/edge cases here?"
   ]
  },
  {
   "cell_type": "markdown",
   "metadata": {},
   "source": [
    "c) Write a correct version of the code, which conforms to the specification."
   ]
  },
  {
   "cell_type": "code",
   "execution_count": 32,
   "metadata": {},
   "outputs": [
    {
     "name": "stdout",
     "output_type": "stream",
     "text": [
      "--- test_sum_squares finished successfully\n"
     ]
    }
   ],
   "source": [
    "def sum_squares(n):\n",
    "    \"\"\"Return the sum of squares 0^2 + 1^2 + ... + (n-1)^2 + n^2.\"\"\"\n",
    "    \n",
    "    result = 0\n",
    "    if type(n) != int:\n",
    "        return(\"Wrong input type\")\n",
    "    for i in range(n+1):\n",
    "        result = update_result(result, i)\n",
    "    return result\n",
    "\n",
    "def update_result(result, i):\n",
    "    result = result + i*i\n",
    "    return result\n",
    "\n",
    "test_sum_squares()   # It should pass all the tests!"
   ]
  },
  {
   "cell_type": "markdown",
   "metadata": {},
   "source": [
    "[Note: This is a rather primitive testing strategy, but it is sometimes enough. If we wanted to provide more advanced testing facilities, we might eg use a proper unit test framework, or use tools to do property based testing. This, as well as formal verification, is outside the scope of this course. The interested reader is referred to [pytest](https://docs.pytest.org/en/latest/) or the built-in [unittest](https://docs.python.org/3/library/unittest.html).\n",
    "\n",
    "Those interested in testing might want to consult the web page for the IDA course [TDDD04 Software testing](https://www.ida.liu.se/~TDDD04/) or the somewhat abbreviation-heavy book by [Ammann & Offutt](https://cs.gmu.edu/~offutt/softwaretest/), which apparently also features video lectures.]"
   ]
  },
  {
   "cell_type": "markdown",
   "metadata": {},
   "source": [
    "## Polymorphic behaviour (via duck typing)"
   ]
  },
  {
   "cell_type": "markdown",
   "metadata": {},
   "source": [
    "In Python we often write functions that can handle several different types of data. A common pattern is writing code which is expected to work with several types of collections of data, for instance. This expectation is however in the mind of the programmer (at least without type annotations), and not something that the interpreter will enforce until runtime. This provides a lot of flexibility, but also requires us to understand what our code means for the different kinds of input. Below we try this out, and in particular return to previously known control structures."
   ]
  },
  {
   "cell_type": "markdown",
   "metadata": {},
   "source": [
    "a) Write a function `last_idx` that takes two arguments `seq` and `elem` and returns the index of the last occurrence of the element `elem` in the iterable `seq`. If the sequence doesn't contain the element, return -1. (You may not use built-ins like .find() here.)"
   ]
  },
  {
   "cell_type": "code",
   "execution_count": 46,
   "metadata": {},
   "outputs": [
    {
     "name": "stdout",
     "output_type": "stream",
     "text": [
      "1\n",
      "6\n",
      "-1\n",
      "23\n",
      "1\n",
      "0\n",
      "-1\n",
      "-1\n",
      "-1\n",
      "seq must be iterable\n"
     ]
    },
    {
     "data": {
      "text/plain": [
       "-1"
      ]
     },
     "execution_count": 46,
     "metadata": {},
     "output_type": "execute_result"
    }
   ],
   "source": [
    "def last_idx(seq, elem):\n",
    "    \n",
    "    try:\n",
    "        b = [index for index, element in enumerate(seq) if element == elem]\n",
    "        if len(b) > 0:\n",
    "            return b[-1]\n",
    "    \n",
    "    except TypeError:\n",
    "        print(\"seq must be iterable\")\n",
    "        return -1\n",
    "\n",
    "    return -1\n",
    "\n",
    "print(last_idx({\"ok\": 5, \"bo\": 3, \"no\": 4}, \"bo\"))\n",
    "print(last_idx([3, -4, 5, 9, 0.57, -7.9, 5, 6.8], 5))\n",
    "print(last_idx([3, -4, 5, 9, 0.57, -7.9, 5, 6.8], [5, 3]))\n",
    "print(last_idx(\"The quick brown fox jumps over the lazy dog\", \"p\"))\n",
    "print(last_idx({\"a\": \"fox\", \"b\": \"dog\"}, \"b\"))\n",
    "print(last_idx(([5, 1], [2, 3], [6, 5]), [5, 1]))\n",
    "print(last_idx([\"hi\", \"bye\", \"ciao\"], \"ciao!\"))\n",
    "print(last_idx(\"cat\", \"a cat catches fish\"))\n",
    "print(last_idx(['Student Amadeus scored 8 on the Algebra exam and 13 on the History exam.\\n', \n",
    "            'Student Rosa scored 19 on the Algebra exam and 22 on the History exam.\\n', \n",
    "            'Student Mona scored 6 on the Algebra exam and 27 on the History exam.\\n', \n",
    "            'Student Ludwig scored 12 on the Algebra exam and 18 on the History exam.\\n', \n",
    "            'Student Karl scored 14 on the Algebra exam and 10 on the History exam.\\n'], \"A\"))\n",
    "\n",
    "last_idx(5, -6)\n"
   ]
  },
  {
   "cell_type": "markdown",
   "metadata": {},
   "source": [
    "b) What does your function require of the input? Also include if it would work with a string, a list or a dictionary. In the latter case, what would `elem` be matched against? What will`last_idx(\"cat\", \"a cat catches fish\")` yield?"
   ]
  },
  {
   "cell_type": "code",
   "execution_count": null,
   "metadata": {},
   "outputs": [],
   "source": [
    "\"\"\"\n",
    "    The function requires that the first argument seq must be iterable, otherwise it will raise a TypeError, as observed in the\n",
    "    last example. It works with string, list, tuple and dictionary. \n",
    "    \n",
    "    In case of dictionary the second argument elem is matched\n",
    "    against the keys of the dictionary, as seen in the third example. \n",
    "    \n",
    "    last_idx(\"cat\", \"a cat catches fish\") yields -1 as\n",
    "    expected becuase none of the characters in \"cat\" matches the string \"a cat catches fish\".\n",
    "\n",
    "\"\"\""
   ]
  },
  {
   "cell_type": "markdown",
   "metadata": {},
   "source": [
    "c) Add some `assert`-style tests that your code should satisfy. For each test, provide a description of what it tests, and why. That can be made as part of the assert statement itself."
   ]
  },
  {
   "cell_type": "code",
   "execution_count": 48,
   "metadata": {},
   "outputs": [
    {
     "name": "stdout",
     "output_type": "stream",
     "text": [
      "seq must be iterable\n",
      "--- test_last_idx finished successfully\n"
     ]
    }
   ],
   "source": [
    "def test_last_idx():\n",
    "    assert last_idx([1,2,3,2], 2) == 3, \"last_idx should return last index, for sequences with several occurrences\"\n",
    "    # More well-justified tests here.\n",
    "    assert last_idx(45, 3) == -1, \"last_idx should print a message and return -1, instead of crashing if seq argument in not iterable\"\n",
    "    assert last_idx([1, 2, 3, 4, 5], 6) ==-1, \"last_idx should return last index of the sequence as no occurence of element is true\"\n",
    "    assert last_idx([{\"ok\": 5}, {\"yes\": 6}, {\"no\": 1}], {\"ok\": 5}) == 0, \"last_idx should work well for dictionaries and match the key-value pair\"\n",
    "    assert last_idx({\"a\": 1, \"b\": 2, \"6\":-5, 6:5}, 6) == 3, \"last_idx should be able to distinguish integer and string keys in dictionary\"\n",
    "    print(\"--- test_last_idx finished successfully\")\n",
    "        \n",
    "test_last_idx()"
   ]
  },
  {
   "cell_type": "markdown",
   "metadata": {},
   "source": [
    "The fact that a program doesn't crash when given a certain input doesn't necessarily ensure that the results are what  we expect. Thus we need to get a feel for how eg iteration over different types of data behaves, in order to understand how our function behaves."
   ]
  },
  {
   "cell_type": "markdown",
   "metadata": {},
   "source": [
    "d) Can we use `last_idx` with a text file? What would the program try to match `elem` against? What would the return value signify (eg number of words from the start of the file, lines from the start of the file, bytes read...)?"
   ]
  },
  {
   "cell_type": "code",
   "execution_count": 75,
   "metadata": {},
   "outputs": [
    {
     "name": "stdout",
     "output_type": "stream",
     "text": [
      "4\n",
      "-1\n"
     ]
    }
   ],
   "source": [
    "with open(\"students.txt\") as file:\n",
    "    print(last_idx(file, \"Student Karl scored 14 on the Algebra exam and 10 on the History exam.\\n\"))\n",
    "\n",
    "with open(\"students.txt\") as file:\n",
    "    print(last_idx(file, \"aok\"))\n",
    "    "
   ]
  },
  {
   "cell_type": "code",
   "execution_count": 76,
   "metadata": {},
   "outputs": [
    {
     "name": "stdout",
     "output_type": "stream",
     "text": [
      "Student Amadeus scored 8 on the Algebra exam and 13 on the History exam.\n",
      "\n",
      "Student Rosa scored 19 on the Algebra exam and 22 on the History exam.\n",
      "\n",
      "Student Mona scored 6 on the Algebra exam and 27 on the History exam.\n",
      "\n",
      "Student Ludwig scored 12 on the Algebra exam and 18 on the History exam.\n",
      "\n",
      "Student Karl scored 14 on the Algebra exam and 10 on the History exam.\n",
      "\n"
     ]
    }
   ],
   "source": [
    "\"\"\"\n",
    "Yes it works fine on the text file.\n",
    "It parses the text into a sequence of lines containing a sentence, with all characters included\n",
    "(letters, blank-spaces, etc.). As such the return value would signify the position in terms of line.\n",
    "\"\"\"\n",
    "\n",
    "with open(\"students.txt\") as file :\n",
    "    \"\"\"\"as our function is using enumerate() to iterate over elements of the seq, we can print it to view how the file is\n",
    "    splitting into elements.\"\"\"\n",
    "    for i, element in enumerate(file) :\n",
    "        print(element)\n",
    "    # As we observe, the text file is split into strings, each representing a new line in the file.\n",
    "    \"\"\"We can expect that our function will match every new line in the file against the second argument elem.\"\"\"\n",
    "    \n"
   ]
  },
  {
   "cell_type": "markdown",
   "metadata": {},
   "source": [
    "[Hint: Try it out! Open a file like in lab 1, using a `with` statement, and pass the file handle to the function. What is the easiest way for you to check what the function is comparing?]"
   ]
  },
  {
   "cell_type": "markdown",
   "metadata": {},
   "source": [
    "### Attribution\n",
    "\n",
    "Lab created by Anders Märak Leffler (2019), using some material by Johan Falkenjack. Feel free to reuse the material, but do so with attribution. License [CC-BY-SA 4.0](https://creativecommons.org/licenses/by-sa/4.0/)."
   ]
  }
 ],
 "metadata": {
  "kernelspec": {
   "display_name": "Python 3",
   "language": "python",
   "name": "python3"
  },
  "language_info": {
   "codemirror_mode": {
    "name": "ipython",
    "version": 3
   },
   "file_extension": ".py",
   "mimetype": "text/x-python",
   "name": "python",
   "nbconvert_exporter": "python",
   "pygments_lexer": "ipython3",
   "version": "3.9.6"
  }
 },
 "nbformat": 4,
 "nbformat_minor": 2
}
