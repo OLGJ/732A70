{
 "cells": [
  {
   "cell_type": "markdown",
   "metadata": {},
   "source": [
    "# Laboration 2"
   ]
  },
  {
   "cell_type": "markdown",
   "metadata": {},
   "source": [
    "---\n",
    "**Student:** olojo524\n",
    "\n",
    "**Student:** ghijk456\n",
    "\n",
    "---"
   ]
  },
  {
   "cell_type": "markdown",
   "metadata": {},
   "source": [
    "# Introduction \n",
    "In this first part of the lab, we will be exploring \n",
    "* Functions\n",
    "    * How functions are called.\n",
    "    * Argument passing\n",
    "    * Return values.\n",
    "* Function usage\n",
    "    * Construction of simple multi-function programs.\n",
    "    * Functions that work on several kinds of inputs (ie simple polymorphism via duck typing).\n",
    "\n",
    "Additionally we will touch upon\n",
    "* Exceptions and \n",
    "* simple assertion testing and debugging."
   ]
  },
  {
   "cell_type": "markdown",
   "metadata": {},
   "source": [
    "This lab might require you to search for information on your own to a larger extent than in lab 1. As in the last lab, Lutz' Learning Python and the [official documentation](https://docs.python.org) might be helpful. Also make sure to make use of the available lab assistance!"
   ]
  },
  {
   "cell_type": "markdown",
   "metadata": {},
   "source": [
    "# A note on rules"
   ]
  },
  {
   "cell_type": "markdown",
   "metadata": {},
   "source": [
    "Please make sure to conform to the (previously mentioned) [IDA lab rules](https://www.ida.liu.se/~732A74/labs/index.en.shtml)."
   ]
  },
  {
   "cell_type": "markdown",
   "metadata": {},
   "source": [
    "## Functions in Python"
   ]
  },
  {
   "cell_type": "markdown",
   "metadata": {},
   "source": [
    "a) Write a function that takes a radius and returns area of a circle with that radius. What would be a good name for the function and the argument? Python has a value for $\\pi$ in a certain standard library module. Which might that be? Don't type in the constant yourself."
   ]
  },
  {
   "cell_type": "code",
   "execution_count": 22,
   "metadata": {},
   "outputs": [
    {
     "data": {
      "text/plain": [
       "78.53981633974483"
      ]
     },
     "execution_count": 22,
     "metadata": {},
     "output_type": "execute_result"
    }
   ],
   "source": [
    "import math\n",
    "def circle_area(radius):\n",
    "    area = math.pi*(radius**2)\n",
    "    return(area)\n",
    "\n",
    "circle_area(5)"
   ]
  },
  {
   "cell_type": "markdown",
   "metadata": {},
   "source": [
    "[Hint: Google. Or consider modules we have `import`ed previously.]"
   ]
  },
  {
   "cell_type": "markdown",
   "metadata": {},
   "source": [
    "b) How would you call the function, if you wanted to calculate the area of a circle with radius 10cm?"
   ]
  },
  {
   "cell_type": "code",
   "execution_count": 23,
   "metadata": {},
   "outputs": [
    {
     "data": {
      "text/plain": [
       "314.1592653589793"
      ]
     },
     "execution_count": 23,
     "metadata": {},
     "output_type": "execute_result"
    }
   ],
   "source": [
    "circle_area(10)"
   ]
  },
  {
   "cell_type": "markdown",
   "metadata": {},
   "source": [
    "c) How would you call the function using named arguments/keyword arguments?"
   ]
  },
  {
   "cell_type": "code",
   "execution_count": 24,
   "metadata": {},
   "outputs": [
    {
     "data": {
      "text/plain": [
       "706.8583470577034"
      ]
     },
     "execution_count": 24,
     "metadata": {},
     "output_type": "execute_result"
    }
   ],
   "source": [
    "house=15\n",
    "circle_area(house)"
   ]
  },
  {
   "cell_type": "markdown",
   "metadata": {},
   "source": [
    "[Note: In this case, the calling of the function is somewhat artificial. When writing scripts or working with programs that take several parameters, this style can be quite useful. This sidesteps questions of if this particular library takes the input or the output as the first argument, or the like. The code of course becomes more verbose.]"
   ]
  },
  {
   "cell_type": "markdown",
   "metadata": {},
   "source": [
    "d) Write a function `circle_area_safe(radius)` which uses an if statement to check that the radius is positive and prints `The radius must be positive` to the screen if it is not, and otherwise calls the `circle_area` function. Also, if the radius is not positive the `circle_area_safe` function should signal to the code calling it that it has failed by returning `None`."
   ]
  },
  {
   "cell_type": "code",
   "execution_count": 25,
   "metadata": {},
   "outputs": [],
   "source": [
    "def circle_area_safe(radius):    \n",
    "    # Checks if statement\n",
    "    if radius < 0:\n",
    "        print(\"The radius must be positive\")\n",
    "        return(None)\n",
    "    # Otherwise return circle_area call\n",
    "    return(circle_area(radius))"
   ]
  },
  {
   "cell_type": "markdown",
   "metadata": {},
   "source": [
    "e) Recreate the `circle_area_safe` function (call this version `circle_area_safer`) but instead of printing a message to the screen and returning `None` if the radius is negative, _raise_ a ValueError exception with suitable error message as argument."
   ]
  },
  {
   "cell_type": "code",
   "execution_count": 26,
   "metadata": {},
   "outputs": [],
   "source": [
    "def circle_area_safer(radius):\n",
    "    if radius < 0:\n",
    "        raise ValueError(\"Can't have a negative radius mate\")\n",
    "    return(circle_area(radius))"
   ]
  },
  {
   "cell_type": "markdown",
   "metadata": {},
   "source": [
    "f) To test out how functions are called in Python, create a function `print_num_args` that prints the number of arguments it has been called with. The count should not include keyword arguments."
   ]
  },
  {
   "cell_type": "code",
   "execution_count": 27,
   "metadata": {
    "scrolled": true
   },
   "outputs": [
    {
     "data": {
      "text/plain": [
       "4"
      ]
     },
     "execution_count": 27,
     "metadata": {},
     "output_type": "execute_result"
    }
   ],
   "source": [
    "# Your definition goes here.\n",
    "def print_num_args(*args):\n",
    "    return(len(args))\n",
    "\n",
    "print_num_args(\"a\", \"b\", \"c\")  # Should print the number 3.\n",
    "print_num_args(\"a\", \"b\", \"c\", \"d\")  # Should print the number 4."
   ]
  },
  {
   "cell_type": "markdown",
   "metadata": {},
   "source": [
    "g) Write a function `print_kwargs` that prints all the keyword arguments."
   ]
  },
  {
   "cell_type": "code",
   "execution_count": 28,
   "metadata": {
    "scrolled": true
   },
   "outputs": [
    {
     "name": "stdout",
     "output_type": "stream",
     "text": [
      "The 2 regular arguments are:\n",
      "0: alonzo\n",
      "1: zeno\n",
      "And the keyword arguents are:\n",
      "foo is set to 2\n",
      "bar is set to 99\n"
     ]
    },
    {
     "data": {
      "text/plain": [
       "'Should print:\\n\\nThe 2 regular arguments are:\\n0: alonzo\\n1: zeno\\n\\nAnd the keyword arguments are (the ordering here is arbitrary):\\nfoo is set to 2\\nbar is set to 99\\n'"
      ]
     },
     "execution_count": 28,
     "metadata": {},
     "output_type": "execute_result"
    }
   ],
   "source": [
    "# Your definition goes here\n",
    "def print_kwargs(*args, **kwargs):\n",
    "    print(f\"The {len(args)} regular arguments are:\")\n",
    "    \n",
    "    # Struggled with not incorporating a loop\n",
    "    for i in args:\n",
    "        print(f\"{args.index(i)}: {i}\") \n",
    "    \n",
    "    print(\"And the keyword arguents are:\")\n",
    "    print(\"\\n\".join([\"{} is set to {!r}\".format(k, v) for k, v in kwargs.items()]))\n",
    "    \n",
    "print_kwargs(\"alonzo\", \"zeno\", foo=1+1,bar = 99)\n",
    "\"\"\"Should print:\n",
    "\n",
    "The 2 regular arguments are:\n",
    "0: alonzo\n",
    "1: zeno\n",
    "\n",
    "And the keyword arguments are (the ordering here is arbitrary):\n",
    "foo is set to 2\n",
    "bar is set to 99\n",
    "\"\"\"\n"
   ]
  },
  {
   "cell_type": "markdown",
   "metadata": {},
   "source": [
    "h) Below we have a very simple program. Run the first cell. It will succeed. What happens when you run the second cell, and why? In particular, consider the error produced. What does it mean. What value has been returned from the function, and how would you modify the function in order for it to work?"
   ]
  },
  {
   "cell_type": "code",
   "execution_count": 29,
   "metadata": {},
   "outputs": [
    {
     "name": "stdout",
     "output_type": "stream",
     "text": [
      "13225\n"
     ]
    }
   ],
   "source": [
    "def my_polynomial(x):\n",
    "    \"\"\"Return the number x^2 + 30x + 225.\"\"\"\n",
    "    print(x**2 + 30*x + 225)\n",
    "\n",
    "polyval = my_polynomial(100)"
   ]
  },
  {
   "cell_type": "code",
   "execution_count": 30,
   "metadata": {},
   "outputs": [
    {
     "name": "stdout",
     "output_type": "stream",
     "text": [
      "13225\n"
     ]
    },
    {
     "ename": "TypeError",
     "evalue": "unsupported operand type(s) for *: 'int' and 'NoneType'",
     "output_type": "error",
     "traceback": [
      "\u001b[1;31m---------------------------------------------------------------------------\u001b[0m",
      "\u001b[1;31mTypeError\u001b[0m                                 Traceback (most recent call last)",
      "Input \u001b[1;32mIn [30]\u001b[0m, in \u001b[0;36m<module>\u001b[1;34m\u001b[0m\n\u001b[1;32m----> 1\u001b[0m double_the_polyval \u001b[38;5;241m=\u001b[39m \u001b[38;5;241;43m2\u001b[39;49m\u001b[38;5;241;43m*\u001b[39;49m\u001b[43mmy_polynomial\u001b[49m\u001b[43m(\u001b[49m\u001b[38;5;241;43m100\u001b[39;49m\u001b[43m)\u001b[49m\n",
      "\u001b[1;31mTypeError\u001b[0m: unsupported operand type(s) for *: 'int' and 'NoneType'"
     ]
    }
   ],
   "source": [
    "double_the_polyval = 2*my_polynomial(100)"
   ]
  },
  {
   "cell_type": "code",
   "execution_count": null,
   "metadata": {},
   "outputs": [],
   "source": [
    "# Write your answer as a code comment here. \n",
    "# The reason it won't work is that we're not returning annything, which we can see if we call:\n",
    "type(my_polynomial(100))\n",
    "\n",
    "# As such our function is an empty call, and python raises an error when we're trying\n",
    "# to multiply an int with a NoneType. \n",
    "# In order to make it work we need to add a return statement to the function.\n"
   ]
  },
  {
   "cell_type": "markdown",
   "metadata": {},
   "source": [
    "## Script/program construction (a tiny example)"
   ]
  },
  {
   "cell_type": "markdown",
   "metadata": {},
   "source": [
    "Regardless of which programming language we use, we will likely construct programs or scripts that consist of several functions that work in concert. Below we will create a very simple Monte Carlo simulation as a basis for breaking down a larger (though small) problem into sensible, (re)usable discrete pieces. The resulting program will likely utilise control structures that you have read about before."
   ]
  },
  {
   "cell_type": "markdown",
   "metadata": {},
   "source": [
    "**Hint: read all of the subtasks related to this task before coding.**"
   ]
  },
  {
   "cell_type": "markdown",
   "metadata": {},
   "source": [
    "a) The following is a well-known procedure for approximating $\\pi$: pick $n$ uniformly randomly selected coordinates in an $2R\\times 2R$ square. Count the number of the points that fall within the circle of radius $R$ with its center at $(R,R)$. The fraction of these points to the total number of points is used to approximate $\\pi$ (exactly how is for you to figure out). (Note that this is not to be confused with MCMC.)\n",
    "\n",
    "Write a program consisting of **several (aptly selected and named) functions**, that present the user with the following simple text user interface. The <span style=\"background: yellow;\">yellow</span> text is an example of user input (the user is prompted, and enters the value). It then prints the results of the simulations:"
   ]
  },
  {
   "cell_type": "markdown",
   "metadata": {},
   "source": [
    "`pi_simulation()`\n",
    "\n",
    "<p style=\"font-family: console, monospace\">Welcome to the Monty Carlo PI program!</p>\n",
    "\n",
    "<p style=\"font-family: console, monospace\">\n",
    "Please enter a number of points (or the letter \"q\" to quit): <span style=\"background: yellow;\">100</span><br/>\n",
    "Using 100 points we (this time) got the following value for pi: 3.08<br/>\n",
    "This would mean that tau (2xPI) would be: 6.16\n",
    "</p>\n",
    "\n",
    "<p style=\"font-family: console, monospace\">\n",
    "Please enter a number of points (or the letter \"q\" to quit): <span style=\"background: yellow;\">100</span><br/>\n",
    "Using 100 points we (this time) got the following value for pi: 3.12<br/>\n",
    "This would mean that tau (2xPI) would be: 6.24\n",
    "</p>\n",
    "\n",
    "<p style=\"font-family: console, monospace\">\n",
    "Please enter a number of points (or the letter \"q\" to quit): <span style=\"background: yellow;\">q</span>\n",
    "</p>\n",
    "\n",
    "<p style=\"font-family: console, monospace\">\n",
    "Thank you for choosing Monty Carlo.\n",
    "</p>"
   ]
  },
  {
   "cell_type": "markdown",
   "metadata": {},
   "source": [
    "[**Note**: This is a task largely about program structure. Unless there are substantial performance drawbacks, prefer readability over optimisation.]"
   ]
  },
  {
   "cell_type": "markdown",
   "metadata": {},
   "source": [
    "---\n",
    "**REMEMBER: YOU DO NOT WRITE CODE FOR THE INTERPRETER. YOU WRITE IT FOR OTHER HUMAN READERS.**\n",
    "\n",
    "---\n",
    "\n",
    "An important part of programming is to allow a reader who is perhaps unfamiliar with the code to be able to understand it, and convince themselves that it is correct with respect to specification. There should also be as few surprises as possible."
   ]
  },
  {
   "cell_type": "code",
   "execution_count": 31,
   "metadata": {},
   "outputs": [],
   "source": [
    "import random\n",
    "import math\n",
    "def pi_simulation():\n",
    "    \"\"\"\n",
    "    Call this function to start the simulation of pi.\n",
    "    \"\"\"\n",
    "    print(\"Welcome to the Monty Carlo PI program! \\n\")\n",
    "    initiation()\n",
    "\n",
    "def initiation():\n",
    "    \"\"\"\n",
    "    This function acts as an initiator.\n",
    "    It prompts the user to enter an input and makes calls to either goodbye() or iteration() accordingly.\n",
    "    \"\"\"\n",
    "\n",
    "    print('Please enter a number of points (or the letter \"q\" to quit):')\n",
    "    x = input()\n",
    "\n",
    "    if x == \"q\":\n",
    "        goodbye()\n",
    "    \n",
    "    else:\n",
    "        iteration(x)\n",
    "\n",
    "def iteration(x):\n",
    "    \"\"\"\n",
    "    This function generates the terminal output from one iteration. It makes a call to run one simulation.\n",
    "    \"\"\"\n",
    "\n",
    "    pi = simulation(int(x))\n",
    "    print(f\"Using {x} points we (this time) got the following value for pi: {pi}\")\n",
    "    print(f\"This would mean that tau (2xPI) would be: {2*pi} \\n\")\n",
    "    initiation()\n",
    "\n",
    "\n",
    "def simulation(n):\n",
    "    \"\"\"\n",
    "    This function runs one simulation.\n",
    "    It takes an input n which represents n uniformly distributed points located in the centre (RxR) from a 2R x 2R square.\n",
    "    Default R used in each simulation is 10.\n",
    "    The fraction of n points which meets the criteria represents the approximation of pi.\n",
    "    \"\"\"\n",
    "    # The radius\n",
    "    R = 10\n",
    "    # Generate n random uniformly distributed numbers [0, 1]\n",
    "    # One for x and one for y\n",
    "    xpoints = [random.uniform(0, 1) for i in range(n)]\n",
    "    ypoints = [random.uniform(0, 1) for i in range(n)]\n",
    "\n",
    "    # The side and area of the square\n",
    "    square_side = R*2\n",
    "    square_area = square_side**2\n",
    "    \n",
    "    # Radius of square -> distance to center\n",
    "    xs = R\n",
    "    ys = R\n",
    "\n",
    "    # Count of centered points\n",
    "    centered_points = 0\n",
    "\n",
    "    for i in range(n):\n",
    "        # Aquire the x & y coordinates of the points\n",
    "        x = xpoints[i]*square_side\n",
    "        y = ypoints[i]*square_side\n",
    "        \n",
    "        # Calculate if a point is located within the centre\n",
    "        if(math.sqrt((x-xs)**2 + (y-ys)**2) <= R):\n",
    "            centered_points += 1     \n",
    "\n",
    "    # Approximation of pi\n",
    "    pi_approx = centered_points/n * 4\n",
    "\n",
    "    return(pi_approx)\n",
    "    \n",
    "\n",
    "def goodbye():\n",
    "    \"\"\"\n",
    "    This function ends the session.\n",
    "    \"\"\"\n",
    "    print(\"Thank you for choosing Monty Carlo\")\n"
   ]
  },
  {
   "cell_type": "markdown",
   "metadata": {},
   "source": [
    "[Hint: You might want to consider the function `input`. Try it out and see what type of value it returns.]"
   ]
  },
  {
   "cell_type": "code",
   "execution_count": 32,
   "metadata": {},
   "outputs": [
    {
     "name": "stdout",
     "output_type": "stream",
     "text": [
      "Welcome to the Monty Carlo PI program! \n",
      "\n",
      "Please enter a number of points (or the letter \"q\" to quit):\n",
      "Thank you for choosing Monty Carlo\n"
     ]
    }
   ],
   "source": [
    "pi_simulation()"
   ]
  },
  {
   "cell_type": "markdown",
   "metadata": {},
   "source": [
    "b) One feature of Python's simplicity is the possibility to (comparatively) quickly produce code to try out our intuitions. Let's say we want to compare how well our approximation performs, as compared to some gold standard for pi (here: the version in the standard library). Run 100 simulations. How large is the maximum relative error (using the definition above) in this particular run of simulations, if each simulation has $n=10^4$ points? Is it larger or smaller than 5%? Write code that returns this maximum relative error."
   ]
  },
  {
   "cell_type": "code",
   "execution_count": 45,
   "metadata": {
    "scrolled": true
   },
   "outputs": [
    {
     "name": "stdout",
     "output_type": "stream",
     "text": [
      "Largest relative error is 0.0480 which is roughly equal to 0.0153%\n"
     ]
    }
   ],
   "source": [
    "def comparison():\n",
    "    gold_standard = math.pi\n",
    "    results = []\n",
    "    for i in range(100):\n",
    "        results.append(simulation(10**4))\n",
    "\n",
    "    largest_relative_error = max([abs(x - gold_standard) for x in results])\n",
    "    print(f\"Largest relative error is {largest_relative_error:.4f} which is roughly equal to {round((largest_relative_error/gold_standard), 4)}%\") # If I do this, sometimes it adds really many decimal digits, why?\n",
    "comparison()"
   ]
  },
  {
   "cell_type": "markdown",
   "metadata": {},
   "source": [
    "[Note: This is only to show a quick way of testing out your code in a readable fashion. You might want to try to write it in a pythonic way. But in terms of performance, it is very likely that the true bottleneck will still be the approximation function itself.]"
   ]
  },
  {
   "cell_type": "markdown",
   "metadata": {},
   "source": [
    "## Fault/bugspotting and tests in a very simple setting"
   ]
  },
  {
   "cell_type": "markdown",
   "metadata": {},
   "source": [
    "It is inevitable that we will make mistakes when programming. An important skill is not only to be able to write code in the first place, but also to be able to figure where one would start looking for faults. This also involves being able to make the expectations we have on the program more explicit, and at the very least construct some sets of automatic \"sanity checks\" for the program. The latter will likely not be something done for every piece of code you write, but it is highly useful for code that might be reused or is hard to understand (due either to programming reasons, or because the underlying mathemetics is dense). When rewriting or optimising code, having such tests are also highly useful to provide hints that the changes haven't broken the code."
   ]
  },
  {
   "cell_type": "markdown",
   "metadata": {},
   "source": [
    "**Task**: The following program is supposed to return the sum of the squares of numbers $0,...,n$."
   ]
  },
  {
   "cell_type": "code",
   "execution_count": null,
   "metadata": {},
   "outputs": [],
   "source": [
    "# Do not modify this code! You'll fix it later.\n",
    "\n",
    "def update_result(result, i):\n",
    "    result = result + i*i\n",
    "    return result\n",
    "\n",
    "def sum_squares(n):\n",
    "    \"\"\"Return the sum of squares 0^2 + 1^2 + ... + (n-1)^2 + n^2.\"\"\"\n",
    "    result = 0\n",
    "    for i in range(n):\n",
    "        result = update_result(n, result)"
   ]
  },
  {
   "cell_type": "markdown",
   "metadata": {},
   "source": [
    "a) What mistakes have the programmer made when trying to solve the problem? Name the mistakes in coding or thinking about the issue that you notice (regardless of if they affect the end result). In particular, write down what is wrong (not just \"line X should read ...\"; fixing the code comes later). Feel free to make a copy of the code (pressing `b` in a notebook creates a new cell below) and try it out, add relevant print statements, assertions or anything else that might help. Note down how you spotted the faults."
   ]
  },
  {
   "cell_type": "code",
   "execution_count": null,
   "metadata": {},
   "outputs": [],
   "source": [
    "\"\"\"\n",
    " Write your answers here.\n",
    "\n",
    "Arguably functions should be written in the order they're calld -> sum_squares before update_results.\n",
    "\n",
    "sum_squares:\n",
    "    If we use range(n) we won't calculate the sum of squared n only 0, ..., n-1. So swap to n+1.\n",
    "    It should pass the iteration i that it's currently on, swap n -> i.\n",
    "    Order of the arguments passed are wrong.\n",
    "    Does not return anything, needs to return result.\n",
    "    \n",
    "\n",
    "\"\"\""
   ]
  },
  {
   "cell_type": "markdown",
   "metadata": {},
   "source": [
    "b) Write a few simple assertions that should pass if the code was correct. Don't forget to include the *why* of the test, preferably in the error message provided in the `AssertionError` if the test fails."
   ]
  },
  {
   "cell_type": "code",
   "execution_count": 49,
   "metadata": {
    "scrolled": false
   },
   "outputs": [
    {
     "name": "stdout",
     "output_type": "stream",
     "text": [
      "--- test_sum_squares finished successfully\n"
     ]
    }
   ],
   "source": [
    "def test_sum_squares():\n",
    "    # Format: assert [condition], message\n",
    "    assert sum_squares(0) == 0, \"after 0 iterations, 0 should be returned (sum_squares(0))\"\n",
    "    # Add a few more (good and justified) tests.\n",
    "    assert sum_squares(5) > 0, \"After 5 iterations, it should return > 0 if it adds correctly\"\n",
    "    print(\"--- test_sum_squares finished successfully\")\n",
    "        \n",
    "test_sum_squares()"
   ]
  },
  {
   "cell_type": "markdown",
   "metadata": {},
   "source": [
    "Hint: might there be any corner/edge cases here?"
   ]
  },
  {
   "cell_type": "markdown",
   "metadata": {},
   "source": [
    "c) Write a correct version of the code, which conforms to the specification."
   ]
  },
  {
   "cell_type": "code",
   "execution_count": 48,
   "metadata": {},
   "outputs": [
    {
     "name": "stdout",
     "output_type": "stream",
     "text": [
      "--- test_sum_squares finished successfully\n"
     ]
    }
   ],
   "source": [
    "def sum_squares(n):\n",
    "    \"\"\"Return the sum of squares 0^2 + 1^2 + ... + (n-1)^2 + n^2.\"\"\"\n",
    "    \n",
    "    result = 0\n",
    "    if type(n) != int:\n",
    "        return(\"Wrong input type\")\n",
    "    for i in range(n+1):\n",
    "        result = update_result(result, i)\n",
    "    return result\n",
    "\n",
    "def update_result(result, i):\n",
    "    result = result + i*i\n",
    "    return result\n",
    "\n",
    "test_sum_squares()   # It should pass all the tests!"
   ]
  },
  {
   "cell_type": "markdown",
   "metadata": {},
   "source": [
    "[Note: This is a rather primitive testing strategy, but it is sometimes enough. If we wanted to provide more advanced testing facilities, we might eg use a proper unit test framework, or use tools to do property based testing. This, as well as formal verification, is outside the scope of this course. The interested reader is referred to [pytest](https://docs.pytest.org/en/latest/) or the built-in [unittest](https://docs.python.org/3/library/unittest.html).\n",
    "\n",
    "Those interested in testing might want to consult the web page for the IDA course [TDDD04 Software testing](https://www.ida.liu.se/~TDDD04/) or the somewhat abbreviation-heavy book by [Ammann & Offutt](https://cs.gmu.edu/~offutt/softwaretest/), which apparently also features video lectures.]"
   ]
  },
  {
   "cell_type": "markdown",
   "metadata": {},
   "source": [
    "## Polymorphic behaviour (via duck typing)"
   ]
  },
  {
   "cell_type": "markdown",
   "metadata": {},
   "source": [
    "In Python we often write functions that can handle several different types of data. A common pattern is writing code which is expected to work with several types of collections of data, for instance. This expectation is however in the mind of the programmer (at least without type annotations), and not something that the interpreter will enforce until runtime. This provides a lot of flexibility, but also requires us to understand what our code means for the different kinds of input. Below we try this out, and in particular return to previously known control structures."
   ]
  },
  {
   "cell_type": "markdown",
   "metadata": {},
   "source": [
    "a) Write a function `last_idx` that takes two arguments `seq` and `elem` and returns the index of the last occurrence of the element `elem` in the iterable `seq`. If the sequence doesn't contain the element, return -1. (You may not use built-ins like .find() here.)"
   ]
  },
  {
   "cell_type": "code",
   "execution_count": 66,
   "metadata": {},
   "outputs": [
    {
     "data": {
      "text/plain": [
       "-1"
      ]
     },
     "execution_count": 66,
     "metadata": {},
     "output_type": "execute_result"
    }
   ],
   "source": [
    "def last_idx(seq, elem):\n",
    "    \n",
    "    if elem in seq:\n",
    "        b = [index for index, element in enumerate(seq) if element == elem]\n",
    "        if len(b) > 0:\n",
    "            return b[-1]\n",
    "        else:\n",
    "            return -1\n",
    "    else:\n",
    "        return -1\n",
    "last_idx([[5, 1], [2, 3], [6, 5]], [5, 1])\n",
    "last_idx([5, 6, 2, 1, 5], 5)\n",
    "last_idx([\"hi\", \"bye\", \"ciao\"], \"ciao\")\n",
    "last_idx([{\"ok\": 5}, {\"yes\": 6}, {\"no\": 1}], {\"ok\":1})\n",
    "last_idx(\"A cat in the hat\", \"c\") \n",
    "last_idx(\"cat\", \"a cat catches fish\")\n",
    "last_idx(['Student Amadeus scored 8 on the Algebra exam and 13 on the History exam.\\n', \n",
    "            'Student Rosa scored 19 on the Algebra exam and 22 on the History exam.\\n', \n",
    "            'Student Mona scored 6 on the Algebra exam and 27 on the History exam.\\n', \n",
    "            'Student Ludwig scored 12 on the Algebra exam and 18 on the History exam.\\n', \n",
    "            'Student Karl scored 14 on the Algebra exam and 10 on the History exam.\\n'], \"A\")\n"
   ]
  },
  {
   "cell_type": "markdown",
   "metadata": {},
   "source": [
    "b) What does your function require of the input? Also include if it would work with a string, a list or a dictionary. In the latter case, what would `elem` be matched against? What will`last_idx(\"cat\", \"a cat catches fish\")` yield?"
   ]
  },
  {
   "cell_type": "code",
   "execution_count": null,
   "metadata": {},
   "outputs": [],
   "source": [
    "\"\"\"\n",
    "    It requires two positional arguments, a element to look for and a sequence. It works well with different input types such as dictionary, list and string.\n",
    "    In the dictionary case, elem would be matched against a key and value pair. \n",
    "    It yields -1.\n",
    "\n",
    "\"\"\""
   ]
  },
  {
   "cell_type": "markdown",
   "metadata": {},
   "source": [
    "c) Add some `assert`-style tests that your code should satisfy. For each test, provide a description of what it tests, and why. That can be made as part of the assert statement itself."
   ]
  },
  {
   "cell_type": "code",
   "execution_count": 57,
   "metadata": {},
   "outputs": [
    {
     "name": "stdout",
     "output_type": "stream",
     "text": [
      "--- test_last_idx finished successfully\n"
     ]
    }
   ],
   "source": [
    "def test_last_idx():\n",
    "    assert last_idx([1,2,3,2], 2) == 3, \"last_idx should return last index, for sequences with several occurrences\"\n",
    "    # More well-justified tests here.\n",
    "    assert last_idx([1, 2, 3, 4, 5], 6) ==-1, \"last_idx should return last index of the sequence as no occurence of element is true\"\n",
    "    assert last_idx([{\"ok\": 5}, {\"yes\": 6}, {\"no\": 1}], {\"ok\": 5}) == 0, \"last_idx should work well for dictionaries and match the key-value pair\"\n",
    "    print(\"--- test_last_idx finished successfully\")\n",
    "        \n",
    "test_last_idx()"
   ]
  },
  {
   "cell_type": "markdown",
   "metadata": {},
   "source": [
    "The fact that a program doesn't crash when given a certain input doesn't necessarily ensure that the results are what  we expect. Thus we need to get a feel for how eg iteration over different types of data behaves, in order to understand how our function behaves."
   ]
  },
  {
   "cell_type": "markdown",
   "metadata": {},
   "source": [
    "d) Can we use `last_idx` with a text file? What would the program try to match `elem` against? What would the return value signify (eg number of words from the start of the file, lines from the start of the file, bytes read...)?"
   ]
  },
  {
   "cell_type": "code",
   "execution_count": 82,
   "metadata": {},
   "outputs": [
    {
     "name": "stdout",
     "output_type": "stream",
     "text": [
      "['S', 't', 'u', 'd', 'e', 'n', 't', ' ', 'A', 'm', 'a', 'd', 'e', 'u', 's', ' ', 's', 'c', 'o', 'r', 'e', 'd', ' ', '8', ' ', 'o', 'n', ' ', 't', 'h', 'e', ' ', 'A', 'l', 'g', 'e', 'b', 'r', 'a', ' ', 'e', 'x', 'a', 'm', ' ', 'a', 'n', 'd', ' ', '1', '3', ' ', 'o', 'n', ' ', 't', 'h', 'e', ' ', 'H', 'i', 's', 't', 'o', 'r', 'y', ' ', 'e', 'x', 'a', 'm', '.', '\\n', 'S', 't', 'u', 'd', 'e', 'n', 't', ' ', 'R', 'o', 's', 'a', ' ', 's', 'c', 'o', 'r', 'e', 'd', ' ', '1', '9', ' ', 'o', 'n', ' ', 't', 'h', 'e', ' ', 'A', 'l', 'g', 'e', 'b', 'r', 'a', ' ', 'e', 'x', 'a', 'm', ' ', 'a', 'n', 'd', ' ', '2', '2', ' ', 'o', 'n', ' ', 't', 'h', 'e', ' ', 'H', 'i', 's', 't', 'o', 'r', 'y', ' ', 'e', 'x', 'a', 'm', '.', '\\n', 'S', 't', 'u', 'd', 'e', 'n', 't', ' ', 'M', 'o', 'n', 'a', ' ', 's', 'c', 'o', 'r', 'e', 'd', ' ', '6', ' ', 'o', 'n', ' ', 't', 'h', 'e', ' ', 'A', 'l', 'g', 'e', 'b', 'r', 'a', ' ', 'e', 'x', 'a', 'm', ' ', 'a', 'n', 'd', ' ', '2', '7', ' ', 'o', 'n', ' ', 't', 'h', 'e', ' ', 'H', 'i', 's', 't', 'o', 'r', 'y', ' ', 'e', 'x', 'a', 'm', '.', '\\n', 'S', 't', 'u', 'd', 'e', 'n', 't', ' ', 'L', 'u', 'd', 'w', 'i', 'g', ' ', 's', 'c', 'o', 'r', 'e', 'd', ' ', '1', '2', ' ', 'o', 'n', ' ', 't', 'h', 'e', ' ', 'A', 'l', 'g', 'e', 'b', 'r', 'a', ' ', 'e', 'x', 'a', 'm', ' ', 'a', 'n', 'd', ' ', '1', '8', ' ', 'o', 'n', ' ', 't', 'h', 'e', ' ', 'H', 'i', 's', 't', 'o', 'r', 'y', ' ', 'e', 'x', 'a', 'm', '.', '\\n', 'S', 't', 'u', 'd', 'e', 'n', 't', ' ', 'K', 'a', 'r', 'l', ' ', 's', 'c', 'o', 'r', 'e', 'd', ' ', '1', '4', ' ', 'o', 'n', ' ', 't', 'h', 'e', ' ', 'A', 'l', 'g', 'e', 'b', 'r', 'a', ' ', 'e', 'x', 'a', 'm', ' ', 'a', 'n', 'd', ' ', '1', '0', ' ', 'o', 'n', ' ', 't', 'h', 'e', ' ', 'H', 'i', 's', 't', 'o', 'r', 'y', ' ', 'e', 'x', 'a', 'm', '.', '\\n']\n",
      "354\n"
     ]
    }
   ],
   "source": [
    "with open(\"students.txt\", \"r\") as file:\n",
    "    b = file.read()\n",
    "    print(list(b))\n",
    "    print(last_idx(b, \"a\"))\n",
    "    "
   ]
  },
  {
   "cell_type": "code",
   "execution_count": null,
   "metadata": {},
   "outputs": [],
   "source": [
    "\"\"\"\n",
    "Yes it works fine on the text file, as long as we parse it with .read(). If we do list(file.read()) we can see how it parses the whole text into one large sequence, with all characters included\n",
    "(letters, blank-spaces, etc.). As such the return value would signify the position in terms of character.\n",
    "\n",
    "\"\"\""
   ]
  },
  {
   "cell_type": "markdown",
   "metadata": {},
   "source": [
    "[Hint: Try it out! Open a file like in lab 1, using a `with` statement, and pass the file handle to the function. What is the easiest way for you to check what the function is comparing?]"
   ]
  },
  {
   "cell_type": "markdown",
   "metadata": {},
   "source": [
    "### Attribution\n",
    "\n",
    "Lab created by Anders Märak Leffler (2019), using some material by Johan Falkenjack. Feel free to reuse the material, but do so with attribution. License [CC-BY-SA 4.0](https://creativecommons.org/licenses/by-sa/4.0/)."
   ]
  }
 ],
 "metadata": {
  "kernelspec": {
   "display_name": "Python 3",
   "language": "python",
   "name": "python3"
  },
  "language_info": {
   "codemirror_mode": {
    "name": "ipython",
    "version": 3
   },
   "file_extension": ".py",
   "mimetype": "text/x-python",
   "name": "python",
   "nbconvert_exporter": "python",
   "pygments_lexer": "ipython3",
   "version": "3.9.6"
  }
 },
 "nbformat": 4,
 "nbformat_minor": 2
}
